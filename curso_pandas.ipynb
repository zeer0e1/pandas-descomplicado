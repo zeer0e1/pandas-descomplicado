{
  "nbformat": 4,
  "nbformat_minor": 0,
  "metadata": {
    "colab": {
      "provenance": [],
      "collapsed_sections": [
        "BlwvGDmsUxqZ"
      ],
      "authorship_tag": "ABX9TyM+r6doOn376b161Boy1fGe",
      "include_colab_link": true
    },
    "kernelspec": {
      "name": "python3",
      "display_name": "Python 3"
    },
    "language_info": {
      "name": "python"
    }
  },
  "cells": [
    {
      "cell_type": "markdown",
      "metadata": {
        "id": "view-in-github",
        "colab_type": "text"
      },
      "source": [
        "<a href=\"https://colab.research.google.com/github/zeer0e1/pandas-descomplicado/blob/main/curso_pandas.ipynb\" target=\"_parent\"><img src=\"https://colab.research.google.com/assets/colab-badge.svg\" alt=\"Open In Colab\"/></a>"
      ]
    },
    {
      "cell_type": "markdown",
      "source": [
        "## Curso de pandas - IA Expert Academy\n"
      ],
      "metadata": {
        "id": "cNwl9bXjMXhE"
      }
    },
    {
      "cell_type": "markdown",
      "source": [
        "## Instalação do Pandas"
      ],
      "metadata": {
        "id": "BlwvGDmsUxqZ"
      }
    },
    {
      "cell_type": "code",
      "source": [
        "!pip install pandas"
      ],
      "metadata": {
        "colab": {
          "base_uri": "https://localhost:8080/"
        },
        "id": "yMNquDJLU1ah",
        "outputId": "3641cf01-70e2-4004-ee5b-2a8b7897c8a4"
      },
      "execution_count": 2,
      "outputs": [
        {
          "output_type": "stream",
          "name": "stdout",
          "text": [
            "Requirement already satisfied: pandas in /usr/local/lib/python3.10/dist-packages (1.5.3)\n",
            "Requirement already satisfied: python-dateutil>=2.8.1 in /usr/local/lib/python3.10/dist-packages (from pandas) (2.8.2)\n",
            "Requirement already satisfied: pytz>=2020.1 in /usr/local/lib/python3.10/dist-packages (from pandas) (2023.4)\n",
            "Requirement already satisfied: numpy>=1.21.0 in /usr/local/lib/python3.10/dist-packages (from pandas) (1.23.5)\n",
            "Requirement already satisfied: six>=1.5 in /usr/local/lib/python3.10/dist-packages (from python-dateutil>=2.8.1->pandas) (1.16.0)\n"
          ]
        }
      ]
    },
    {
      "cell_type": "code",
      "source": [
        "import pandas as pd\n",
        "import numpy as np\n",
        "print(np.__version__)"
      ],
      "metadata": {
        "colab": {
          "base_uri": "https://localhost:8080/"
        },
        "id": "7zJdeb-VVGHJ",
        "outputId": "55b16902-3f3b-4662-ace5-565f21e52e42"
      },
      "execution_count": 3,
      "outputs": [
        {
          "output_type": "stream",
          "name": "stdout",
          "text": [
            "1.23.5\n"
          ]
        }
      ]
    },
    {
      "cell_type": "markdown",
      "source": [
        "## Series"
      ],
      "metadata": {
        "id": "ARvv0M7iUUR6"
      }
    },
    {
      "cell_type": "code",
      "source": [
        "serie_dados = pd.Series([10,20,30,40,50])\n",
        "print(serie_dados)"
      ],
      "metadata": {
        "colab": {
          "base_uri": "https://localhost:8080/"
        },
        "id": "UUroeTPxVxP2",
        "outputId": "fcd3f741-589d-4e01-f623-cd1a5768c889"
      },
      "execution_count": 4,
      "outputs": [
        {
          "output_type": "stream",
          "name": "stdout",
          "text": [
            "0    10\n",
            "1    20\n",
            "2    30\n",
            "3    40\n",
            "4    50\n",
            "dtype: int64\n"
          ]
        }
      ]
    },
    {
      "cell_type": "code",
      "source": [
        "type(serie_dados)"
      ],
      "metadata": {
        "colab": {
          "base_uri": "https://localhost:8080/"
        },
        "id": "WTNVeXcjWDbc",
        "outputId": "6f88e401-245e-4e31-b2a9-49679d43f511"
      },
      "execution_count": 5,
      "outputs": [
        {
          "output_type": "execute_result",
          "data": {
            "text/plain": [
              "pandas.core.series.Series"
            ]
          },
          "metadata": {},
          "execution_count": 5
        }
      ]
    },
    {
      "cell_type": "code",
      "source": [
        "array_inteiros = [10,20,30,40,50]\n",
        "indices = ['A','B','C','D','E']\n",
        "series_dados = pd.Series(array_inteiros, index=indices)\n",
        "print(series_dados)"
      ],
      "metadata": {
        "colab": {
          "base_uri": "https://localhost:8080/"
        },
        "id": "tR2GPjvWWGNW",
        "outputId": "5049c0dc-267a-49e2-dc0c-cd774af21605"
      },
      "execution_count": 6,
      "outputs": [
        {
          "output_type": "stream",
          "name": "stdout",
          "text": [
            "A    10\n",
            "B    20\n",
            "C    30\n",
            "D    40\n",
            "E    50\n",
            "dtype: int64\n"
          ]
        }
      ]
    },
    {
      "cell_type": "code",
      "source": [
        "np_array_inteiros = np.array([10,20,30,40,50])\n",
        "print(np_array_inteiros)\n",
        "type(np_array_inteiros)"
      ],
      "metadata": {
        "colab": {
          "base_uri": "https://localhost:8080/"
        },
        "id": "ZGV5foOvYoVb",
        "outputId": "c8c876e9-5b70-4b41-99cb-903d2d133010"
      },
      "execution_count": 7,
      "outputs": [
        {
          "output_type": "stream",
          "name": "stdout",
          "text": [
            "[10 20 30 40 50]\n"
          ]
        },
        {
          "output_type": "execute_result",
          "data": {
            "text/plain": [
              "numpy.ndarray"
            ]
          },
          "metadata": {},
          "execution_count": 7
        }
      ]
    },
    {
      "cell_type": "code",
      "source": [
        "series = pd.Series(np_array_inteiros)\n",
        "print(series)"
      ],
      "metadata": {
        "colab": {
          "base_uri": "https://localhost:8080/"
        },
        "id": "neQUZdbqY5Ep",
        "outputId": "950a9925-2891-4ebf-9c72-3c3c4e04b46c"
      },
      "execution_count": 8,
      "outputs": [
        {
          "output_type": "stream",
          "name": "stdout",
          "text": [
            "0    10\n",
            "1    20\n",
            "2    30\n",
            "3    40\n",
            "4    50\n",
            "dtype: int64\n"
          ]
        }
      ]
    },
    {
      "cell_type": "code",
      "source": [
        "series.ndim"
      ],
      "metadata": {
        "colab": {
          "base_uri": "https://localhost:8080/"
        },
        "id": "eu3ixnMIZJgZ",
        "outputId": "92e2fd1c-6166-49cf-af38-60bfd9eadff6"
      },
      "execution_count": 9,
      "outputs": [
        {
          "output_type": "execute_result",
          "data": {
            "text/plain": [
              "1"
            ]
          },
          "metadata": {},
          "execution_count": 9
        }
      ]
    },
    {
      "cell_type": "code",
      "source": [
        "series.size"
      ],
      "metadata": {
        "colab": {
          "base_uri": "https://localhost:8080/"
        },
        "id": "8vapngkxZNAn",
        "outputId": "58f5ae66-0a47-4cd0-957b-212ae1ec0774"
      },
      "execution_count": 10,
      "outputs": [
        {
          "output_type": "execute_result",
          "data": {
            "text/plain": [
              "5"
            ]
          },
          "metadata": {},
          "execution_count": 10
        }
      ]
    },
    {
      "cell_type": "code",
      "source": [
        "series.index = ['X','Z','V','Y','W']\n",
        "print(series)"
      ],
      "metadata": {
        "colab": {
          "base_uri": "https://localhost:8080/"
        },
        "id": "mTGEQo5cZQtn",
        "outputId": "06aa2345-a2f1-4d67-89af-c88c0d2d727e"
      },
      "execution_count": 11,
      "outputs": [
        {
          "output_type": "stream",
          "name": "stdout",
          "text": [
            "X    10\n",
            "Z    20\n",
            "V    30\n",
            "Y    40\n",
            "W    50\n",
            "dtype: int64\n"
          ]
        }
      ]
    },
    {
      "cell_type": "code",
      "source": [
        "valores = np.random.random(10)\n",
        "index = np.arange(0,10)\n",
        "print(valores)\n",
        "print(index)"
      ],
      "metadata": {
        "colab": {
          "base_uri": "https://localhost:8080/"
        },
        "id": "sf8j3fASZqVP",
        "outputId": "bcbe0603-9030-450d-9bbe-f9882b64f7b5"
      },
      "execution_count": 12,
      "outputs": [
        {
          "output_type": "stream",
          "name": "stdout",
          "text": [
            "[0.87378985 0.18715697 0.45368554 0.05204702 0.42071695 0.57389768\n",
            " 0.47237558 0.5802007  0.52362287 0.8485652 ]\n",
            "[0 1 2 3 4 5 6 7 8 9]\n"
          ]
        }
      ]
    },
    {
      "cell_type": "code",
      "source": [
        "type(valores),type(index)"
      ],
      "metadata": {
        "colab": {
          "base_uri": "https://localhost:8080/"
        },
        "id": "vxM_-8P5Z8hF",
        "outputId": "2d088e20-d50c-46d1-c1d4-9fc251af98bd"
      },
      "execution_count": 13,
      "outputs": [
        {
          "output_type": "execute_result",
          "data": {
            "text/plain": [
              "(numpy.ndarray, numpy.ndarray)"
            ]
          },
          "metadata": {},
          "execution_count": 13
        }
      ]
    },
    {
      "cell_type": "code",
      "source": [
        "serie_dados = pd.Series(valores,index)\n",
        "print(serie_dados)"
      ],
      "metadata": {
        "colab": {
          "base_uri": "https://localhost:8080/"
        },
        "id": "0WazZQD3aBuF",
        "outputId": "155e4661-80c6-415d-a103-1d1ca115ddb8"
      },
      "execution_count": 14,
      "outputs": [
        {
          "output_type": "stream",
          "name": "stdout",
          "text": [
            "0    0.873790\n",
            "1    0.187157\n",
            "2    0.453686\n",
            "3    0.052047\n",
            "4    0.420717\n",
            "5    0.573898\n",
            "6    0.472376\n",
            "7    0.580201\n",
            "8    0.523623\n",
            "9    0.848565\n",
            "dtype: float64\n"
          ]
        }
      ]
    },
    {
      "cell_type": "code",
      "source": [
        "dicionario = {'Joao':10,'alice':5,'Gustavo':6,'Pedro':9}\n",
        "type(dicionario)"
      ],
      "metadata": {
        "colab": {
          "base_uri": "https://localhost:8080/"
        },
        "id": "mzk57y0VakOj",
        "outputId": "81b8ec04-b05b-48bb-ba5a-4aa82558d5d5"
      },
      "execution_count": 15,
      "outputs": [
        {
          "output_type": "execute_result",
          "data": {
            "text/plain": [
              "dict"
            ]
          },
          "metadata": {},
          "execution_count": 15
        }
      ]
    },
    {
      "cell_type": "code",
      "source": [
        "dicionario"
      ],
      "metadata": {
        "colab": {
          "base_uri": "https://localhost:8080/"
        },
        "id": "LmCbTem0auH0",
        "outputId": "f7491acc-0062-4fa3-c079-fea394d0f8fc"
      },
      "execution_count": 16,
      "outputs": [
        {
          "output_type": "execute_result",
          "data": {
            "text/plain": [
              "{'Joao': 10, 'alice': 5, 'Gustavo': 6, 'Pedro': 9}"
            ]
          },
          "metadata": {},
          "execution_count": 16
        }
      ]
    },
    {
      "cell_type": "code",
      "source": [
        "dict_serie_dados = pd.Series(dicionario)\n",
        "print(dict_serie_dados)"
      ],
      "metadata": {
        "colab": {
          "base_uri": "https://localhost:8080/"
        },
        "id": "6vl29hGgaw56",
        "outputId": "b4a5dd13-8509-406e-dab8-f7ac3b444ba5"
      },
      "execution_count": 17,
      "outputs": [
        {
          "output_type": "stream",
          "name": "stdout",
          "text": [
            "Joao       10\n",
            "alice       5\n",
            "Gustavo     6\n",
            "Pedro       9\n",
            "dtype: int64\n"
          ]
        }
      ]
    },
    {
      "cell_type": "markdown",
      "source": [
        "## Fatiamento (slicing)"
      ],
      "metadata": {
        "id": "SLZWhkgkUvHC"
      }
    },
    {
      "cell_type": "code",
      "source": [
        "serie_dados[:]"
      ],
      "metadata": {
        "colab": {
          "base_uri": "https://localhost:8080/"
        },
        "id": "O_Ld-hd0cskd",
        "outputId": "6289a405-6c51-439b-df5a-0f5f7e4aaaec"
      },
      "execution_count": 18,
      "outputs": [
        {
          "output_type": "execute_result",
          "data": {
            "text/plain": [
              "0    0.873790\n",
              "1    0.187157\n",
              "2    0.453686\n",
              "3    0.052047\n",
              "4    0.420717\n",
              "5    0.573898\n",
              "6    0.472376\n",
              "7    0.580201\n",
              "8    0.523623\n",
              "9    0.848565\n",
              "dtype: float64"
            ]
          },
          "metadata": {},
          "execution_count": 18
        }
      ]
    },
    {
      "cell_type": "code",
      "source": [
        "serie_dados[0:3]"
      ],
      "metadata": {
        "colab": {
          "base_uri": "https://localhost:8080/"
        },
        "id": "HhC9fynnc9Je",
        "outputId": "3d7da61b-5723-4ad6-924b-52ebc356cbd5"
      },
      "execution_count": 19,
      "outputs": [
        {
          "output_type": "execute_result",
          "data": {
            "text/plain": [
              "0    0.873790\n",
              "1    0.187157\n",
              "2    0.453686\n",
              "dtype: float64"
            ]
          },
          "metadata": {},
          "execution_count": 19
        }
      ]
    },
    {
      "cell_type": "code",
      "source": [
        "serie_dados[:4]"
      ],
      "metadata": {
        "colab": {
          "base_uri": "https://localhost:8080/"
        },
        "id": "BzLySyCzeouA",
        "outputId": "314e3ff7-4c94-42e7-9932-5e28e4638dec"
      },
      "execution_count": 22,
      "outputs": [
        {
          "output_type": "execute_result",
          "data": {
            "text/plain": [
              "0    0.873790\n",
              "1    0.187157\n",
              "2    0.453686\n",
              "3    0.052047\n",
              "dtype: float64"
            ]
          },
          "metadata": {},
          "execution_count": 22
        }
      ]
    },
    {
      "cell_type": "markdown",
      "source": [
        "## Cópia, conversão e concactenação"
      ],
      "metadata": {
        "id": "cOxKqFRIUfLa"
      }
    }
  ]
}