{
  "nbformat": 4,
  "nbformat_minor": 0,
  "metadata": {
    "colab": {
      "provenance": [],
      "collapsed_sections": [
        "BlwvGDmsUxqZ"
      ],
      "authorship_tag": "ABX9TyMVI4X53zJp0IaH2N38SM1y",
      "include_colab_link": true
    },
    "kernelspec": {
      "name": "python3",
      "display_name": "Python 3"
    },
    "language_info": {
      "name": "python"
    }
  },
  "cells": [
    {
      "cell_type": "markdown",
      "metadata": {
        "id": "view-in-github",
        "colab_type": "text"
      },
      "source": [
        "<a href=\"https://colab.research.google.com/github/zeer0e1/pandas-descomplicado/blob/main/curso_pandas.ipynb\" target=\"_parent\"><img src=\"https://colab.research.google.com/assets/colab-badge.svg\" alt=\"Open In Colab\"/></a>"
      ]
    },
    {
      "cell_type": "markdown",
      "source": [
        "## Curso de pandas - IA Expert Academy\n"
      ],
      "metadata": {
        "id": "cNwl9bXjMXhE"
      }
    },
    {
      "cell_type": "markdown",
      "source": [
        "## Instalação do Pandas"
      ],
      "metadata": {
        "id": "BlwvGDmsUxqZ"
      }
    },
    {
      "cell_type": "code",
      "source": [
        "!pip install pandas"
      ],
      "metadata": {
        "colab": {
          "base_uri": "https://localhost:8080/"
        },
        "id": "yMNquDJLU1ah",
        "outputId": "05b35089-f0d1-4d38-90d0-342c0ace6545"
      },
      "execution_count": 2,
      "outputs": [
        {
          "output_type": "stream",
          "name": "stdout",
          "text": [
            "Requirement already satisfied: pandas in /usr/local/lib/python3.10/dist-packages (1.5.3)\n",
            "Requirement already satisfied: python-dateutil>=2.8.1 in /usr/local/lib/python3.10/dist-packages (from pandas) (2.8.2)\n",
            "Requirement already satisfied: pytz>=2020.1 in /usr/local/lib/python3.10/dist-packages (from pandas) (2023.4)\n",
            "Requirement already satisfied: numpy>=1.21.0 in /usr/local/lib/python3.10/dist-packages (from pandas) (1.23.5)\n",
            "Requirement already satisfied: six>=1.5 in /usr/local/lib/python3.10/dist-packages (from python-dateutil>=2.8.1->pandas) (1.16.0)\n"
          ]
        }
      ]
    },
    {
      "cell_type": "code",
      "source": [
        "import pandas as pd\n",
        "import numpy as np\n",
        "print(np.__version__)"
      ],
      "metadata": {
        "colab": {
          "base_uri": "https://localhost:8080/"
        },
        "id": "7zJdeb-VVGHJ",
        "outputId": "c02d6d0a-ae30-4ce7-e4e7-b15afe736cc3"
      },
      "execution_count": 3,
      "outputs": [
        {
          "output_type": "stream",
          "name": "stdout",
          "text": [
            "1.23.5\n"
          ]
        }
      ]
    },
    {
      "cell_type": "markdown",
      "source": [
        "## Series"
      ],
      "metadata": {
        "id": "ARvv0M7iUUR6"
      }
    },
    {
      "cell_type": "code",
      "source": [
        "serie_dados = pd.Series([10,20,30,40,50])\n",
        "print(serie_dados)"
      ],
      "metadata": {
        "colab": {
          "base_uri": "https://localhost:8080/"
        },
        "id": "UUroeTPxVxP2",
        "outputId": "c13927a3-521e-4e45-e1ad-1ee8bf45e304"
      },
      "execution_count": 4,
      "outputs": [
        {
          "output_type": "stream",
          "name": "stdout",
          "text": [
            "0    10\n",
            "1    20\n",
            "2    30\n",
            "3    40\n",
            "4    50\n",
            "dtype: int64\n"
          ]
        }
      ]
    },
    {
      "cell_type": "code",
      "source": [
        "type(serie_dados)"
      ],
      "metadata": {
        "colab": {
          "base_uri": "https://localhost:8080/"
        },
        "id": "WTNVeXcjWDbc",
        "outputId": "8059b0ea-afb8-4954-cbdc-bf0c18596fef"
      },
      "execution_count": 5,
      "outputs": [
        {
          "output_type": "execute_result",
          "data": {
            "text/plain": [
              "pandas.core.series.Series"
            ]
          },
          "metadata": {},
          "execution_count": 5
        }
      ]
    },
    {
      "cell_type": "code",
      "source": [
        "array_inteiros = [10,20,30,40,50]\n",
        "indices = ['A','B','C','D','E']\n",
        "series_dados = pd.Series(array_inteiros, index=indices)\n",
        "print(series_dados)"
      ],
      "metadata": {
        "colab": {
          "base_uri": "https://localhost:8080/"
        },
        "id": "tR2GPjvWWGNW",
        "outputId": "72f4dfe8-d4e8-4024-d4d9-01ea7676b33e"
      },
      "execution_count": 6,
      "outputs": [
        {
          "output_type": "stream",
          "name": "stdout",
          "text": [
            "A    10\n",
            "B    20\n",
            "C    30\n",
            "D    40\n",
            "E    50\n",
            "dtype: int64\n"
          ]
        }
      ]
    },
    {
      "cell_type": "code",
      "source": [
        "np_array_inteiros = np.array([10,20,30,40,50])\n",
        "print(np_array_inteiros)\n",
        "type(np_array_inteiros)"
      ],
      "metadata": {
        "colab": {
          "base_uri": "https://localhost:8080/"
        },
        "id": "ZGV5foOvYoVb",
        "outputId": "211a73e8-55e1-47fa-a7d7-a825b8d2b228"
      },
      "execution_count": 7,
      "outputs": [
        {
          "output_type": "stream",
          "name": "stdout",
          "text": [
            "[10 20 30 40 50]\n"
          ]
        },
        {
          "output_type": "execute_result",
          "data": {
            "text/plain": [
              "numpy.ndarray"
            ]
          },
          "metadata": {},
          "execution_count": 7
        }
      ]
    },
    {
      "cell_type": "code",
      "source": [
        "series = pd.Series(np_array_inteiros)\n",
        "print(series)"
      ],
      "metadata": {
        "colab": {
          "base_uri": "https://localhost:8080/"
        },
        "id": "neQUZdbqY5Ep",
        "outputId": "d6ab7dbc-8d68-40f1-d1ff-5975d8c25cca"
      },
      "execution_count": 8,
      "outputs": [
        {
          "output_type": "stream",
          "name": "stdout",
          "text": [
            "0    10\n",
            "1    20\n",
            "2    30\n",
            "3    40\n",
            "4    50\n",
            "dtype: int64\n"
          ]
        }
      ]
    },
    {
      "cell_type": "code",
      "source": [
        "series.ndim"
      ],
      "metadata": {
        "colab": {
          "base_uri": "https://localhost:8080/"
        },
        "id": "eu3ixnMIZJgZ",
        "outputId": "680ef0c2-5cd8-4f24-afa6-810e140b19a8"
      },
      "execution_count": 9,
      "outputs": [
        {
          "output_type": "execute_result",
          "data": {
            "text/plain": [
              "1"
            ]
          },
          "metadata": {},
          "execution_count": 9
        }
      ]
    },
    {
      "cell_type": "code",
      "source": [
        "series.size"
      ],
      "metadata": {
        "colab": {
          "base_uri": "https://localhost:8080/"
        },
        "id": "8vapngkxZNAn",
        "outputId": "b2fe1750-879b-4816-e944-32fa2fb547f8"
      },
      "execution_count": 10,
      "outputs": [
        {
          "output_type": "execute_result",
          "data": {
            "text/plain": [
              "5"
            ]
          },
          "metadata": {},
          "execution_count": 10
        }
      ]
    },
    {
      "cell_type": "code",
      "source": [
        "series.index = ['X','Z','V','Y','W']\n",
        "print(series)"
      ],
      "metadata": {
        "colab": {
          "base_uri": "https://localhost:8080/"
        },
        "id": "mTGEQo5cZQtn",
        "outputId": "f96b47e9-f15e-4da2-ccec-623596d3ec1b"
      },
      "execution_count": 11,
      "outputs": [
        {
          "output_type": "stream",
          "name": "stdout",
          "text": [
            "X    10\n",
            "Z    20\n",
            "V    30\n",
            "Y    40\n",
            "W    50\n",
            "dtype: int64\n"
          ]
        }
      ]
    },
    {
      "cell_type": "code",
      "source": [
        "valores = np.random.random(10)\n",
        "index = np.arange(0,10)\n",
        "print(valores)\n",
        "print(index)"
      ],
      "metadata": {
        "colab": {
          "base_uri": "https://localhost:8080/"
        },
        "id": "sf8j3fASZqVP",
        "outputId": "61f9617c-9d2e-4fb0-c611-307bb214366e"
      },
      "execution_count": 12,
      "outputs": [
        {
          "output_type": "stream",
          "name": "stdout",
          "text": [
            "[0.22379143 0.3118054  0.70200186 0.00626751 0.13653672 0.75469093\n",
            " 0.66726934 0.12122433 0.1756244  0.61026951]\n",
            "[0 1 2 3 4 5 6 7 8 9]\n"
          ]
        }
      ]
    },
    {
      "cell_type": "code",
      "source": [
        "type(valores),type(index)"
      ],
      "metadata": {
        "colab": {
          "base_uri": "https://localhost:8080/"
        },
        "id": "vxM_-8P5Z8hF",
        "outputId": "f832d312-ee5e-4d60-9aa1-82b24ade7753"
      },
      "execution_count": 13,
      "outputs": [
        {
          "output_type": "execute_result",
          "data": {
            "text/plain": [
              "(numpy.ndarray, numpy.ndarray)"
            ]
          },
          "metadata": {},
          "execution_count": 13
        }
      ]
    },
    {
      "cell_type": "code",
      "source": [
        "serie_dados = pd.Series(valores,index)\n",
        "print(serie_dados)"
      ],
      "metadata": {
        "colab": {
          "base_uri": "https://localhost:8080/"
        },
        "id": "0WazZQD3aBuF",
        "outputId": "c1163665-3385-4b88-dfb7-7ba52e1afad3"
      },
      "execution_count": 14,
      "outputs": [
        {
          "output_type": "stream",
          "name": "stdout",
          "text": [
            "0    0.223791\n",
            "1    0.311805\n",
            "2    0.702002\n",
            "3    0.006268\n",
            "4    0.136537\n",
            "5    0.754691\n",
            "6    0.667269\n",
            "7    0.121224\n",
            "8    0.175624\n",
            "9    0.610270\n",
            "dtype: float64\n"
          ]
        }
      ]
    },
    {
      "cell_type": "code",
      "source": [
        "dicionario = {'Joao':10,'alice':5,'Gustavo':6,'Pedro':9}\n",
        "type(dicionario)"
      ],
      "metadata": {
        "colab": {
          "base_uri": "https://localhost:8080/"
        },
        "id": "mzk57y0VakOj",
        "outputId": "908066b4-5e61-4e76-b11b-36c84cd8d821"
      },
      "execution_count": 15,
      "outputs": [
        {
          "output_type": "execute_result",
          "data": {
            "text/plain": [
              "dict"
            ]
          },
          "metadata": {},
          "execution_count": 15
        }
      ]
    },
    {
      "cell_type": "code",
      "source": [
        "dicionario"
      ],
      "metadata": {
        "colab": {
          "base_uri": "https://localhost:8080/"
        },
        "id": "LmCbTem0auH0",
        "outputId": "e8b1e2f3-fd63-485c-ab51-3f9a959e40c2"
      },
      "execution_count": 16,
      "outputs": [
        {
          "output_type": "execute_result",
          "data": {
            "text/plain": [
              "{'Joao': 10, 'alice': 5, 'Gustavo': 6, 'Pedro': 9}"
            ]
          },
          "metadata": {},
          "execution_count": 16
        }
      ]
    },
    {
      "cell_type": "code",
      "source": [
        "dict_serie_dados = pd.Series(dicionario)\n",
        "print(dict_serie_dados)"
      ],
      "metadata": {
        "colab": {
          "base_uri": "https://localhost:8080/"
        },
        "id": "6vl29hGgaw56",
        "outputId": "42e504fa-81f2-4e6b-8d69-1c70abb1eddd"
      },
      "execution_count": 17,
      "outputs": [
        {
          "output_type": "stream",
          "name": "stdout",
          "text": [
            "Joao       10\n",
            "alice       5\n",
            "Gustavo     6\n",
            "Pedro       9\n",
            "dtype: int64\n"
          ]
        }
      ]
    },
    {
      "cell_type": "markdown",
      "source": [
        "## Fatiamento (slicing)"
      ],
      "metadata": {
        "id": "SLZWhkgkUvHC"
      }
    },
    {
      "cell_type": "code",
      "source": [
        "serie_dados[:]"
      ],
      "metadata": {
        "colab": {
          "base_uri": "https://localhost:8080/"
        },
        "id": "O_Ld-hd0cskd",
        "outputId": "6d488108-73ec-4abe-98b5-77ea06575bca"
      },
      "execution_count": 18,
      "outputs": [
        {
          "output_type": "execute_result",
          "data": {
            "text/plain": [
              "0    0.223791\n",
              "1    0.311805\n",
              "2    0.702002\n",
              "3    0.006268\n",
              "4    0.136537\n",
              "5    0.754691\n",
              "6    0.667269\n",
              "7    0.121224\n",
              "8    0.175624\n",
              "9    0.610270\n",
              "dtype: float64"
            ]
          },
          "metadata": {},
          "execution_count": 18
        }
      ]
    },
    {
      "cell_type": "code",
      "source": [
        "serie_dados[0:3]"
      ],
      "metadata": {
        "colab": {
          "base_uri": "https://localhost:8080/"
        },
        "id": "HhC9fynnc9Je",
        "outputId": "b591d8fe-2147-41cf-e0ef-f7a3f2911b3b"
      },
      "execution_count": 19,
      "outputs": [
        {
          "output_type": "execute_result",
          "data": {
            "text/plain": [
              "0    0.223791\n",
              "1    0.311805\n",
              "2    0.702002\n",
              "dtype: float64"
            ]
          },
          "metadata": {},
          "execution_count": 19
        }
      ]
    },
    {
      "cell_type": "code",
      "source": [
        "serie_dados[:4]"
      ],
      "metadata": {
        "colab": {
          "base_uri": "https://localhost:8080/"
        },
        "id": "BzLySyCzeouA",
        "outputId": "629ef656-8db1-48d3-9fb6-dacc3c97abeb"
      },
      "execution_count": 20,
      "outputs": [
        {
          "output_type": "execute_result",
          "data": {
            "text/plain": [
              "0    0.223791\n",
              "1    0.311805\n",
              "2    0.702002\n",
              "3    0.006268\n",
              "dtype: float64"
            ]
          },
          "metadata": {},
          "execution_count": 20
        }
      ]
    },
    {
      "cell_type": "code",
      "source": [
        "serie_dados[-1:]"
      ],
      "metadata": {
        "id": "HkXA5MmOG2YO"
      },
      "execution_count": null,
      "outputs": []
    },
    {
      "cell_type": "code",
      "source": [
        "serie_dados[:-1]"
      ],
      "metadata": {
        "colab": {
          "base_uri": "https://localhost:8080/"
        },
        "id": "2q1BdtnFHIQN",
        "outputId": "f5007742-e92e-47ef-8534-c0da7147b50d"
      },
      "execution_count": 22,
      "outputs": [
        {
          "output_type": "execute_result",
          "data": {
            "text/plain": [
              "0    0.223791\n",
              "1    0.311805\n",
              "2    0.702002\n",
              "3    0.006268\n",
              "4    0.136537\n",
              "5    0.754691\n",
              "6    0.667269\n",
              "7    0.121224\n",
              "8    0.175624\n",
              "dtype: float64"
            ]
          },
          "metadata": {},
          "execution_count": 22
        }
      ]
    },
    {
      "cell_type": "markdown",
      "source": [
        "## Cópia, conversão e concactenação"
      ],
      "metadata": {
        "id": "cOxKqFRIUfLa"
      }
    },
    {
      "cell_type": "code",
      "source": [
        "serie_dados2 = serie_dados.copy()"
      ],
      "metadata": {
        "id": "veoonSeCIBDv"
      },
      "execution_count": 23,
      "outputs": []
    },
    {
      "cell_type": "code",
      "source": [
        "serie_dados2.dtype"
      ],
      "metadata": {
        "colab": {
          "base_uri": "https://localhost:8080/"
        },
        "id": "krMpl3rtIQvf",
        "outputId": "ec1b445f-f967-4f5a-f376-ef7ec4b8f31f"
      },
      "execution_count": 24,
      "outputs": [
        {
          "output_type": "execute_result",
          "data": {
            "text/plain": [
              "dtype('float64')"
            ]
          },
          "metadata": {},
          "execution_count": 24
        }
      ]
    },
    {
      "cell_type": "code",
      "source": [
        "s3 = serie_dados2.astype(int)"
      ],
      "metadata": {
        "id": "FBQOYtoULOlz"
      },
      "execution_count": 28,
      "outputs": []
    },
    {
      "cell_type": "code",
      "source": [
        "s3.dtype"
      ],
      "metadata": {
        "colab": {
          "base_uri": "https://localhost:8080/"
        },
        "id": "NUI71Yt_Laby",
        "outputId": "31ed1dab-427e-4b85-ad51-75dc52d890fb"
      },
      "execution_count": 29,
      "outputs": [
        {
          "output_type": "execute_result",
          "data": {
            "text/plain": [
              "dtype('int64')"
            ]
          },
          "metadata": {},
          "execution_count": 29
        }
      ]
    },
    {
      "cell_type": "code",
      "source": [
        "dados_novos = {'lucas':30,'rau':28}\n",
        "serie_dados3 = pd.Series(dados_novos)\n",
        "serie_dados3"
      ],
      "metadata": {
        "id": "oq0G55AsLpVp"
      },
      "execution_count": null,
      "outputs": []
    },
    {
      "cell_type": "code",
      "source": [
        "dict_serie_dados"
      ],
      "metadata": {
        "id": "Vc5jw95dL5MP"
      },
      "execution_count": null,
      "outputs": []
    },
    {
      "cell_type": "code",
      "source": [
        "serie_dados4 = pd.concat([dict_serie_dados, serie_dados3])\n",
        "serie_dados4"
      ],
      "metadata": {
        "colab": {
          "base_uri": "https://localhost:8080/"
        },
        "id": "_hMr6JMLL-gH",
        "outputId": "2e419bd1-a957-409b-a89f-a75e7f932b07"
      },
      "execution_count": 35,
      "outputs": [
        {
          "output_type": "execute_result",
          "data": {
            "text/plain": [
              "Joao       10\n",
              "alice       5\n",
              "Gustavo     6\n",
              "Pedro       9\n",
              "lucas      30\n",
              "rau        28\n",
              "dtype: int64"
            ]
          },
          "metadata": {},
          "execution_count": 35
        }
      ]
    },
    {
      "cell_type": "markdown",
      "source": [
        "# Acessando aos dados com iloc\n",
        "\n",
        "\n",
        "*   Acessando elemento pelo indice\n",
        "\n"
      ],
      "metadata": {
        "id": "j2bBq4jxOlc_"
      }
    },
    {
      "cell_type": "code",
      "source": [
        "dataset = pd.read_csv('census.csv')"
      ],
      "metadata": {
        "id": "was3SonhOuZX"
      },
      "execution_count": 36,
      "outputs": []
    },
    {
      "cell_type": "code",
      "source": [
        "dataset"
      ],
      "metadata": {
        "colab": {
          "base_uri": "https://localhost:8080/",
          "height": 756
        },
        "id": "4cq_UFl5PVuh",
        "outputId": "6f634474-0b22-4aae-b8d2-575d11fc227d"
      },
      "execution_count": 37,
      "outputs": [
        {
          "output_type": "execute_result",
          "data": {
            "text/plain": [
              "       age          workclass  final-weight    education  education-num  \\\n",
              "0       39          State-gov         77516    Bachelors             13   \n",
              "1       50   Self-emp-not-inc         83311    Bachelors             13   \n",
              "2       38            Private        215646      HS-grad              9   \n",
              "3       53            Private        234721         11th              7   \n",
              "4       28            Private        338409    Bachelors             13   \n",
              "...    ...                ...           ...          ...            ...   \n",
              "32556   27            Private        257302   Assoc-acdm             12   \n",
              "32557   40            Private        154374      HS-grad              9   \n",
              "32558   58            Private        151910      HS-grad              9   \n",
              "32559   22            Private        201490      HS-grad              9   \n",
              "32560   52       Self-emp-inc        287927      HS-grad              9   \n",
              "\n",
              "            marital-status          occupation    relationship    race  \\\n",
              "0            Never-married        Adm-clerical   Not-in-family   White   \n",
              "1       Married-civ-spouse     Exec-managerial         Husband   White   \n",
              "2                 Divorced   Handlers-cleaners   Not-in-family   White   \n",
              "3       Married-civ-spouse   Handlers-cleaners         Husband   Black   \n",
              "4       Married-civ-spouse      Prof-specialty            Wife   Black   \n",
              "...                    ...                 ...             ...     ...   \n",
              "32556   Married-civ-spouse        Tech-support            Wife   White   \n",
              "32557   Married-civ-spouse   Machine-op-inspct         Husband   White   \n",
              "32558              Widowed        Adm-clerical       Unmarried   White   \n",
              "32559        Never-married        Adm-clerical       Own-child   White   \n",
              "32560   Married-civ-spouse     Exec-managerial            Wife   White   \n",
              "\n",
              "           sex  capital-gain  capital-loos  hour-per-week  native-country  \\\n",
              "0         Male          2174             0             40   United-States   \n",
              "1         Male             0             0             13   United-States   \n",
              "2         Male             0             0             40   United-States   \n",
              "3         Male             0             0             40   United-States   \n",
              "4       Female             0             0             40            Cuba   \n",
              "...        ...           ...           ...            ...             ...   \n",
              "32556   Female             0             0             38   United-States   \n",
              "32557     Male             0             0             40   United-States   \n",
              "32558   Female             0             0             40   United-States   \n",
              "32559     Male             0             0             20   United-States   \n",
              "32560   Female         15024             0             40   United-States   \n",
              "\n",
              "       income  \n",
              "0       <=50K  \n",
              "1       <=50K  \n",
              "2       <=50K  \n",
              "3       <=50K  \n",
              "4       <=50K  \n",
              "...       ...  \n",
              "32556   <=50K  \n",
              "32557    >50K  \n",
              "32558   <=50K  \n",
              "32559   <=50K  \n",
              "32560    >50K  \n",
              "\n",
              "[32561 rows x 15 columns]"
            ],
            "text/html": [
              "\n",
              "  <div id=\"df-a5740230-fa8e-438a-85c4-780d58128cb4\" class=\"colab-df-container\">\n",
              "    <div>\n",
              "<style scoped>\n",
              "    .dataframe tbody tr th:only-of-type {\n",
              "        vertical-align: middle;\n",
              "    }\n",
              "\n",
              "    .dataframe tbody tr th {\n",
              "        vertical-align: top;\n",
              "    }\n",
              "\n",
              "    .dataframe thead th {\n",
              "        text-align: right;\n",
              "    }\n",
              "</style>\n",
              "<table border=\"1\" class=\"dataframe\">\n",
              "  <thead>\n",
              "    <tr style=\"text-align: right;\">\n",
              "      <th></th>\n",
              "      <th>age</th>\n",
              "      <th>workclass</th>\n",
              "      <th>final-weight</th>\n",
              "      <th>education</th>\n",
              "      <th>education-num</th>\n",
              "      <th>marital-status</th>\n",
              "      <th>occupation</th>\n",
              "      <th>relationship</th>\n",
              "      <th>race</th>\n",
              "      <th>sex</th>\n",
              "      <th>capital-gain</th>\n",
              "      <th>capital-loos</th>\n",
              "      <th>hour-per-week</th>\n",
              "      <th>native-country</th>\n",
              "      <th>income</th>\n",
              "    </tr>\n",
              "  </thead>\n",
              "  <tbody>\n",
              "    <tr>\n",
              "      <th>0</th>\n",
              "      <td>39</td>\n",
              "      <td>State-gov</td>\n",
              "      <td>77516</td>\n",
              "      <td>Bachelors</td>\n",
              "      <td>13</td>\n",
              "      <td>Never-married</td>\n",
              "      <td>Adm-clerical</td>\n",
              "      <td>Not-in-family</td>\n",
              "      <td>White</td>\n",
              "      <td>Male</td>\n",
              "      <td>2174</td>\n",
              "      <td>0</td>\n",
              "      <td>40</td>\n",
              "      <td>United-States</td>\n",
              "      <td>&lt;=50K</td>\n",
              "    </tr>\n",
              "    <tr>\n",
              "      <th>1</th>\n",
              "      <td>50</td>\n",
              "      <td>Self-emp-not-inc</td>\n",
              "      <td>83311</td>\n",
              "      <td>Bachelors</td>\n",
              "      <td>13</td>\n",
              "      <td>Married-civ-spouse</td>\n",
              "      <td>Exec-managerial</td>\n",
              "      <td>Husband</td>\n",
              "      <td>White</td>\n",
              "      <td>Male</td>\n",
              "      <td>0</td>\n",
              "      <td>0</td>\n",
              "      <td>13</td>\n",
              "      <td>United-States</td>\n",
              "      <td>&lt;=50K</td>\n",
              "    </tr>\n",
              "    <tr>\n",
              "      <th>2</th>\n",
              "      <td>38</td>\n",
              "      <td>Private</td>\n",
              "      <td>215646</td>\n",
              "      <td>HS-grad</td>\n",
              "      <td>9</td>\n",
              "      <td>Divorced</td>\n",
              "      <td>Handlers-cleaners</td>\n",
              "      <td>Not-in-family</td>\n",
              "      <td>White</td>\n",
              "      <td>Male</td>\n",
              "      <td>0</td>\n",
              "      <td>0</td>\n",
              "      <td>40</td>\n",
              "      <td>United-States</td>\n",
              "      <td>&lt;=50K</td>\n",
              "    </tr>\n",
              "    <tr>\n",
              "      <th>3</th>\n",
              "      <td>53</td>\n",
              "      <td>Private</td>\n",
              "      <td>234721</td>\n",
              "      <td>11th</td>\n",
              "      <td>7</td>\n",
              "      <td>Married-civ-spouse</td>\n",
              "      <td>Handlers-cleaners</td>\n",
              "      <td>Husband</td>\n",
              "      <td>Black</td>\n",
              "      <td>Male</td>\n",
              "      <td>0</td>\n",
              "      <td>0</td>\n",
              "      <td>40</td>\n",
              "      <td>United-States</td>\n",
              "      <td>&lt;=50K</td>\n",
              "    </tr>\n",
              "    <tr>\n",
              "      <th>4</th>\n",
              "      <td>28</td>\n",
              "      <td>Private</td>\n",
              "      <td>338409</td>\n",
              "      <td>Bachelors</td>\n",
              "      <td>13</td>\n",
              "      <td>Married-civ-spouse</td>\n",
              "      <td>Prof-specialty</td>\n",
              "      <td>Wife</td>\n",
              "      <td>Black</td>\n",
              "      <td>Female</td>\n",
              "      <td>0</td>\n",
              "      <td>0</td>\n",
              "      <td>40</td>\n",
              "      <td>Cuba</td>\n",
              "      <td>&lt;=50K</td>\n",
              "    </tr>\n",
              "    <tr>\n",
              "      <th>...</th>\n",
              "      <td>...</td>\n",
              "      <td>...</td>\n",
              "      <td>...</td>\n",
              "      <td>...</td>\n",
              "      <td>...</td>\n",
              "      <td>...</td>\n",
              "      <td>...</td>\n",
              "      <td>...</td>\n",
              "      <td>...</td>\n",
              "      <td>...</td>\n",
              "      <td>...</td>\n",
              "      <td>...</td>\n",
              "      <td>...</td>\n",
              "      <td>...</td>\n",
              "      <td>...</td>\n",
              "    </tr>\n",
              "    <tr>\n",
              "      <th>32556</th>\n",
              "      <td>27</td>\n",
              "      <td>Private</td>\n",
              "      <td>257302</td>\n",
              "      <td>Assoc-acdm</td>\n",
              "      <td>12</td>\n",
              "      <td>Married-civ-spouse</td>\n",
              "      <td>Tech-support</td>\n",
              "      <td>Wife</td>\n",
              "      <td>White</td>\n",
              "      <td>Female</td>\n",
              "      <td>0</td>\n",
              "      <td>0</td>\n",
              "      <td>38</td>\n",
              "      <td>United-States</td>\n",
              "      <td>&lt;=50K</td>\n",
              "    </tr>\n",
              "    <tr>\n",
              "      <th>32557</th>\n",
              "      <td>40</td>\n",
              "      <td>Private</td>\n",
              "      <td>154374</td>\n",
              "      <td>HS-grad</td>\n",
              "      <td>9</td>\n",
              "      <td>Married-civ-spouse</td>\n",
              "      <td>Machine-op-inspct</td>\n",
              "      <td>Husband</td>\n",
              "      <td>White</td>\n",
              "      <td>Male</td>\n",
              "      <td>0</td>\n",
              "      <td>0</td>\n",
              "      <td>40</td>\n",
              "      <td>United-States</td>\n",
              "      <td>&gt;50K</td>\n",
              "    </tr>\n",
              "    <tr>\n",
              "      <th>32558</th>\n",
              "      <td>58</td>\n",
              "      <td>Private</td>\n",
              "      <td>151910</td>\n",
              "      <td>HS-grad</td>\n",
              "      <td>9</td>\n",
              "      <td>Widowed</td>\n",
              "      <td>Adm-clerical</td>\n",
              "      <td>Unmarried</td>\n",
              "      <td>White</td>\n",
              "      <td>Female</td>\n",
              "      <td>0</td>\n",
              "      <td>0</td>\n",
              "      <td>40</td>\n",
              "      <td>United-States</td>\n",
              "      <td>&lt;=50K</td>\n",
              "    </tr>\n",
              "    <tr>\n",
              "      <th>32559</th>\n",
              "      <td>22</td>\n",
              "      <td>Private</td>\n",
              "      <td>201490</td>\n",
              "      <td>HS-grad</td>\n",
              "      <td>9</td>\n",
              "      <td>Never-married</td>\n",
              "      <td>Adm-clerical</td>\n",
              "      <td>Own-child</td>\n",
              "      <td>White</td>\n",
              "      <td>Male</td>\n",
              "      <td>0</td>\n",
              "      <td>0</td>\n",
              "      <td>20</td>\n",
              "      <td>United-States</td>\n",
              "      <td>&lt;=50K</td>\n",
              "    </tr>\n",
              "    <tr>\n",
              "      <th>32560</th>\n",
              "      <td>52</td>\n",
              "      <td>Self-emp-inc</td>\n",
              "      <td>287927</td>\n",
              "      <td>HS-grad</td>\n",
              "      <td>9</td>\n",
              "      <td>Married-civ-spouse</td>\n",
              "      <td>Exec-managerial</td>\n",
              "      <td>Wife</td>\n",
              "      <td>White</td>\n",
              "      <td>Female</td>\n",
              "      <td>15024</td>\n",
              "      <td>0</td>\n",
              "      <td>40</td>\n",
              "      <td>United-States</td>\n",
              "      <td>&gt;50K</td>\n",
              "    </tr>\n",
              "  </tbody>\n",
              "</table>\n",
              "<p>32561 rows × 15 columns</p>\n",
              "</div>\n",
              "    <div class=\"colab-df-buttons\">\n",
              "\n",
              "  <div class=\"colab-df-container\">\n",
              "    <button class=\"colab-df-convert\" onclick=\"convertToInteractive('df-a5740230-fa8e-438a-85c4-780d58128cb4')\"\n",
              "            title=\"Convert this dataframe to an interactive table.\"\n",
              "            style=\"display:none;\">\n",
              "\n",
              "  <svg xmlns=\"http://www.w3.org/2000/svg\" height=\"24px\" viewBox=\"0 -960 960 960\">\n",
              "    <path d=\"M120-120v-720h720v720H120Zm60-500h600v-160H180v160Zm220 220h160v-160H400v160Zm0 220h160v-160H400v160ZM180-400h160v-160H180v160Zm440 0h160v-160H620v160ZM180-180h160v-160H180v160Zm440 0h160v-160H620v160Z\"/>\n",
              "  </svg>\n",
              "    </button>\n",
              "\n",
              "  <style>\n",
              "    .colab-df-container {\n",
              "      display:flex;\n",
              "      gap: 12px;\n",
              "    }\n",
              "\n",
              "    .colab-df-convert {\n",
              "      background-color: #E8F0FE;\n",
              "      border: none;\n",
              "      border-radius: 50%;\n",
              "      cursor: pointer;\n",
              "      display: none;\n",
              "      fill: #1967D2;\n",
              "      height: 32px;\n",
              "      padding: 0 0 0 0;\n",
              "      width: 32px;\n",
              "    }\n",
              "\n",
              "    .colab-df-convert:hover {\n",
              "      background-color: #E2EBFA;\n",
              "      box-shadow: 0px 1px 2px rgba(60, 64, 67, 0.3), 0px 1px 3px 1px rgba(60, 64, 67, 0.15);\n",
              "      fill: #174EA6;\n",
              "    }\n",
              "\n",
              "    .colab-df-buttons div {\n",
              "      margin-bottom: 4px;\n",
              "    }\n",
              "\n",
              "    [theme=dark] .colab-df-convert {\n",
              "      background-color: #3B4455;\n",
              "      fill: #D2E3FC;\n",
              "    }\n",
              "\n",
              "    [theme=dark] .colab-df-convert:hover {\n",
              "      background-color: #434B5C;\n",
              "      box-shadow: 0px 1px 3px 1px rgba(0, 0, 0, 0.15);\n",
              "      filter: drop-shadow(0px 1px 2px rgba(0, 0, 0, 0.3));\n",
              "      fill: #FFFFFF;\n",
              "    }\n",
              "  </style>\n",
              "\n",
              "    <script>\n",
              "      const buttonEl =\n",
              "        document.querySelector('#df-a5740230-fa8e-438a-85c4-780d58128cb4 button.colab-df-convert');\n",
              "      buttonEl.style.display =\n",
              "        google.colab.kernel.accessAllowed ? 'block' : 'none';\n",
              "\n",
              "      async function convertToInteractive(key) {\n",
              "        const element = document.querySelector('#df-a5740230-fa8e-438a-85c4-780d58128cb4');\n",
              "        const dataTable =\n",
              "          await google.colab.kernel.invokeFunction('convertToInteractive',\n",
              "                                                    [key], {});\n",
              "        if (!dataTable) return;\n",
              "\n",
              "        const docLinkHtml = 'Like what you see? Visit the ' +\n",
              "          '<a target=\"_blank\" href=https://colab.research.google.com/notebooks/data_table.ipynb>data table notebook</a>'\n",
              "          + ' to learn more about interactive tables.';\n",
              "        element.innerHTML = '';\n",
              "        dataTable['output_type'] = 'display_data';\n",
              "        await google.colab.output.renderOutput(dataTable, element);\n",
              "        const docLink = document.createElement('div');\n",
              "        docLink.innerHTML = docLinkHtml;\n",
              "        element.appendChild(docLink);\n",
              "      }\n",
              "    </script>\n",
              "  </div>\n",
              "\n",
              "\n",
              "<div id=\"df-092a745a-2196-4c6e-806c-6ae5d84a9046\">\n",
              "  <button class=\"colab-df-quickchart\" onclick=\"quickchart('df-092a745a-2196-4c6e-806c-6ae5d84a9046')\"\n",
              "            title=\"Suggest charts\"\n",
              "            style=\"display:none;\">\n",
              "\n",
              "<svg xmlns=\"http://www.w3.org/2000/svg\" height=\"24px\"viewBox=\"0 0 24 24\"\n",
              "     width=\"24px\">\n",
              "    <g>\n",
              "        <path d=\"M19 3H5c-1.1 0-2 .9-2 2v14c0 1.1.9 2 2 2h14c1.1 0 2-.9 2-2V5c0-1.1-.9-2-2-2zM9 17H7v-7h2v7zm4 0h-2V7h2v10zm4 0h-2v-4h2v4z\"/>\n",
              "    </g>\n",
              "</svg>\n",
              "  </button>\n",
              "\n",
              "<style>\n",
              "  .colab-df-quickchart {\n",
              "      --bg-color: #E8F0FE;\n",
              "      --fill-color: #1967D2;\n",
              "      --hover-bg-color: #E2EBFA;\n",
              "      --hover-fill-color: #174EA6;\n",
              "      --disabled-fill-color: #AAA;\n",
              "      --disabled-bg-color: #DDD;\n",
              "  }\n",
              "\n",
              "  [theme=dark] .colab-df-quickchart {\n",
              "      --bg-color: #3B4455;\n",
              "      --fill-color: #D2E3FC;\n",
              "      --hover-bg-color: #434B5C;\n",
              "      --hover-fill-color: #FFFFFF;\n",
              "      --disabled-bg-color: #3B4455;\n",
              "      --disabled-fill-color: #666;\n",
              "  }\n",
              "\n",
              "  .colab-df-quickchart {\n",
              "    background-color: var(--bg-color);\n",
              "    border: none;\n",
              "    border-radius: 50%;\n",
              "    cursor: pointer;\n",
              "    display: none;\n",
              "    fill: var(--fill-color);\n",
              "    height: 32px;\n",
              "    padding: 0;\n",
              "    width: 32px;\n",
              "  }\n",
              "\n",
              "  .colab-df-quickchart:hover {\n",
              "    background-color: var(--hover-bg-color);\n",
              "    box-shadow: 0 1px 2px rgba(60, 64, 67, 0.3), 0 1px 3px 1px rgba(60, 64, 67, 0.15);\n",
              "    fill: var(--button-hover-fill-color);\n",
              "  }\n",
              "\n",
              "  .colab-df-quickchart-complete:disabled,\n",
              "  .colab-df-quickchart-complete:disabled:hover {\n",
              "    background-color: var(--disabled-bg-color);\n",
              "    fill: var(--disabled-fill-color);\n",
              "    box-shadow: none;\n",
              "  }\n",
              "\n",
              "  .colab-df-spinner {\n",
              "    border: 2px solid var(--fill-color);\n",
              "    border-color: transparent;\n",
              "    border-bottom-color: var(--fill-color);\n",
              "    animation:\n",
              "      spin 1s steps(1) infinite;\n",
              "  }\n",
              "\n",
              "  @keyframes spin {\n",
              "    0% {\n",
              "      border-color: transparent;\n",
              "      border-bottom-color: var(--fill-color);\n",
              "      border-left-color: var(--fill-color);\n",
              "    }\n",
              "    20% {\n",
              "      border-color: transparent;\n",
              "      border-left-color: var(--fill-color);\n",
              "      border-top-color: var(--fill-color);\n",
              "    }\n",
              "    30% {\n",
              "      border-color: transparent;\n",
              "      border-left-color: var(--fill-color);\n",
              "      border-top-color: var(--fill-color);\n",
              "      border-right-color: var(--fill-color);\n",
              "    }\n",
              "    40% {\n",
              "      border-color: transparent;\n",
              "      border-right-color: var(--fill-color);\n",
              "      border-top-color: var(--fill-color);\n",
              "    }\n",
              "    60% {\n",
              "      border-color: transparent;\n",
              "      border-right-color: var(--fill-color);\n",
              "    }\n",
              "    80% {\n",
              "      border-color: transparent;\n",
              "      border-right-color: var(--fill-color);\n",
              "      border-bottom-color: var(--fill-color);\n",
              "    }\n",
              "    90% {\n",
              "      border-color: transparent;\n",
              "      border-bottom-color: var(--fill-color);\n",
              "    }\n",
              "  }\n",
              "</style>\n",
              "\n",
              "  <script>\n",
              "    async function quickchart(key) {\n",
              "      const quickchartButtonEl =\n",
              "        document.querySelector('#' + key + ' button');\n",
              "      quickchartButtonEl.disabled = true;  // To prevent multiple clicks.\n",
              "      quickchartButtonEl.classList.add('colab-df-spinner');\n",
              "      try {\n",
              "        const charts = await google.colab.kernel.invokeFunction(\n",
              "            'suggestCharts', [key], {});\n",
              "      } catch (error) {\n",
              "        console.error('Error during call to suggestCharts:', error);\n",
              "      }\n",
              "      quickchartButtonEl.classList.remove('colab-df-spinner');\n",
              "      quickchartButtonEl.classList.add('colab-df-quickchart-complete');\n",
              "    }\n",
              "    (() => {\n",
              "      let quickchartButtonEl =\n",
              "        document.querySelector('#df-092a745a-2196-4c6e-806c-6ae5d84a9046 button');\n",
              "      quickchartButtonEl.style.display =\n",
              "        google.colab.kernel.accessAllowed ? 'block' : 'none';\n",
              "    })();\n",
              "  </script>\n",
              "</div>\n",
              "\n",
              "  <div id=\"id_19c4be46-104d-4634-8b93-3cd0037db781\">\n",
              "    <style>\n",
              "      .colab-df-generate {\n",
              "        background-color: #E8F0FE;\n",
              "        border: none;\n",
              "        border-radius: 50%;\n",
              "        cursor: pointer;\n",
              "        display: none;\n",
              "        fill: #1967D2;\n",
              "        height: 32px;\n",
              "        padding: 0 0 0 0;\n",
              "        width: 32px;\n",
              "      }\n",
              "\n",
              "      .colab-df-generate:hover {\n",
              "        background-color: #E2EBFA;\n",
              "        box-shadow: 0px 1px 2px rgba(60, 64, 67, 0.3), 0px 1px 3px 1px rgba(60, 64, 67, 0.15);\n",
              "        fill: #174EA6;\n",
              "      }\n",
              "\n",
              "      [theme=dark] .colab-df-generate {\n",
              "        background-color: #3B4455;\n",
              "        fill: #D2E3FC;\n",
              "      }\n",
              "\n",
              "      [theme=dark] .colab-df-generate:hover {\n",
              "        background-color: #434B5C;\n",
              "        box-shadow: 0px 1px 3px 1px rgba(0, 0, 0, 0.15);\n",
              "        filter: drop-shadow(0px 1px 2px rgba(0, 0, 0, 0.3));\n",
              "        fill: #FFFFFF;\n",
              "      }\n",
              "    </style>\n",
              "    <button class=\"colab-df-generate\" onclick=\"generateWithVariable('dataset')\"\n",
              "            title=\"Generate code using this dataframe.\"\n",
              "            style=\"display:none;\">\n",
              "\n",
              "  <svg xmlns=\"http://www.w3.org/2000/svg\" height=\"24px\"viewBox=\"0 0 24 24\"\n",
              "       width=\"24px\">\n",
              "    <path d=\"M7,19H8.4L18.45,9,17,7.55,7,17.6ZM5,21V16.75L18.45,3.32a2,2,0,0,1,2.83,0l1.4,1.43a1.91,1.91,0,0,1,.58,1.4,1.91,1.91,0,0,1-.58,1.4L9.25,21ZM18.45,9,17,7.55Zm-12,3A5.31,5.31,0,0,0,4.9,8.1,5.31,5.31,0,0,0,1,6.5,5.31,5.31,0,0,0,4.9,4.9,5.31,5.31,0,0,0,6.5,1,5.31,5.31,0,0,0,8.1,4.9,5.31,5.31,0,0,0,12,6.5,5.46,5.46,0,0,0,6.5,12Z\"/>\n",
              "  </svg>\n",
              "    </button>\n",
              "    <script>\n",
              "      (() => {\n",
              "      const buttonEl =\n",
              "        document.querySelector('#id_19c4be46-104d-4634-8b93-3cd0037db781 button.colab-df-generate');\n",
              "      buttonEl.style.display =\n",
              "        google.colab.kernel.accessAllowed ? 'block' : 'none';\n",
              "\n",
              "      buttonEl.onclick = () => {\n",
              "        google.colab.notebook.generateWithVariable('dataset');\n",
              "      }\n",
              "      })();\n",
              "    </script>\n",
              "  </div>\n",
              "\n",
              "    </div>\n",
              "  </div>\n"
            ]
          },
          "metadata": {},
          "execution_count": 37
        }
      ]
    },
    {
      "cell_type": "code",
      "source": [
        "serie_idade = dataset['age']\n",
        "serie_idade\n",
        "type(serie_idade)\n",
        "dataset['age'].values"
      ],
      "metadata": {
        "id": "qEhD1WE7Ptph"
      },
      "execution_count": null,
      "outputs": []
    },
    {
      "cell_type": "code",
      "source": [
        "serie_idade.head(20)"
      ],
      "metadata": {
        "colab": {
          "base_uri": "https://localhost:8080/"
        },
        "id": "XnFFjkgcP_VD",
        "outputId": "5425b101-0e06-49a6-8102-5115f198b008"
      },
      "execution_count": 42,
      "outputs": [
        {
          "output_type": "execute_result",
          "data": {
            "text/plain": [
              "0     39\n",
              "1     50\n",
              "2     38\n",
              "3     53\n",
              "4     28\n",
              "5     37\n",
              "6     49\n",
              "7     52\n",
              "8     31\n",
              "9     42\n",
              "10    37\n",
              "11    30\n",
              "12    23\n",
              "13    32\n",
              "14    40\n",
              "15    34\n",
              "16    25\n",
              "17    32\n",
              "18    38\n",
              "19    43\n",
              "Name: age, dtype: int64"
            ]
          },
          "metadata": {},
          "execution_count": 42
        }
      ]
    },
    {
      "cell_type": "code",
      "source": [
        "serie_idade.tail(20)"
      ],
      "metadata": {
        "colab": {
          "base_uri": "https://localhost:8080/"
        },
        "id": "v9AQCdcpQKC5",
        "outputId": "4e2e3202-8d41-406f-fbea-1770f38166e7"
      },
      "execution_count": 43,
      "outputs": [
        {
          "output_type": "execute_result",
          "data": {
            "text/plain": [
              "32541    41\n",
              "32542    72\n",
              "32543    45\n",
              "32544    31\n",
              "32545    39\n",
              "32546    37\n",
              "32547    43\n",
              "32548    65\n",
              "32549    43\n",
              "32550    43\n",
              "32551    32\n",
              "32552    43\n",
              "32553    32\n",
              "32554    53\n",
              "32555    22\n",
              "32556    27\n",
              "32557    40\n",
              "32558    58\n",
              "32559    22\n",
              "32560    52\n",
              "Name: age, dtype: int64"
            ]
          },
          "metadata": {},
          "execution_count": 43
        }
      ]
    },
    {
      "cell_type": "code",
      "source": [
        "serie_idade.iloc[0]"
      ],
      "metadata": {
        "colab": {
          "base_uri": "https://localhost:8080/"
        },
        "id": "xs4Q_aTPQQZS",
        "outputId": "72a7d3b3-26b2-416a-d578-8284021704c3"
      },
      "execution_count": 44,
      "outputs": [
        {
          "output_type": "execute_result",
          "data": {
            "text/plain": [
              "39"
            ]
          },
          "metadata": {},
          "execution_count": 44
        }
      ]
    },
    {
      "cell_type": "code",
      "source": [
        "serie_idade.iloc[32551]"
      ],
      "metadata": {
        "colab": {
          "base_uri": "https://localhost:8080/"
        },
        "id": "Um0uiBkLQVvi",
        "outputId": "2ef936be-0aec-4327-9854-00c99598d7cf"
      },
      "execution_count": 46,
      "outputs": [
        {
          "output_type": "execute_result",
          "data": {
            "text/plain": [
              "32"
            ]
          },
          "metadata": {},
          "execution_count": 46
        }
      ]
    },
    {
      "cell_type": "code",
      "source": [
        "serie_idade.iloc[-1]"
      ],
      "metadata": {
        "colab": {
          "base_uri": "https://localhost:8080/"
        },
        "id": "Y-QvRN-TQfOz",
        "outputId": "a6c7c9b1-5b22-4192-dc42-2c4122aae0cb"
      },
      "execution_count": 50,
      "outputs": [
        {
          "output_type": "execute_result",
          "data": {
            "text/plain": [
              "52"
            ]
          },
          "metadata": {},
          "execution_count": 50
        }
      ]
    },
    {
      "cell_type": "code",
      "source": [
        "serie_idade.iloc[[0,2,4]]"
      ],
      "metadata": {
        "colab": {
          "base_uri": "https://localhost:8080/"
        },
        "id": "qF0p61AuQpBC",
        "outputId": "d7343cc7-f7e4-437d-c853-f0197f41c761"
      },
      "execution_count": 52,
      "outputs": [
        {
          "output_type": "execute_result",
          "data": {
            "text/plain": [
              "0    39\n",
              "2    38\n",
              "4    28\n",
              "Name: age, dtype: int64"
            ]
          },
          "metadata": {},
          "execution_count": 52
        }
      ]
    },
    {
      "cell_type": "code",
      "source": [
        "lista_idade = []\n",
        "for i in serie_idade.items():\n",
        "    if i[1] > 50:\n",
        "        lista_idade.append(i[1])\n"
      ],
      "metadata": {
        "id": "9z_toI4jVly_"
      },
      "execution_count": 56,
      "outputs": []
    },
    {
      "cell_type": "code",
      "source": [
        "print(lista_idade)"
      ],
      "metadata": {
        "colab": {
          "base_uri": "https://localhost:8080/"
        },
        "id": "7vOWcPyaWMJn",
        "outputId": "f1ae4275-9de6-4ab4-ee7f-9a011b04a933"
      },
      "execution_count": 57,
      "outputs": [
        {
          "output_type": "stream",
          "name": "stdout",
          "text": [
            "[53, 52, 54, 59, 56, 54, 53, 57, 53, 53, 79, 67, 52, 59, 53, 57, 76, 56, 53, 56, 55, 61, 70, 64, 52, 71, 68, 66, 51, 53, 58, 51, 58, 60, 54, 64, 90, 54, 53, 60, 66, 75, 65, 59, 56, 58, 59, 58, 59, 64, 61, 60, 57, 65, 55, 77, 62, 76, 63, 58, 66, 55, 53, 67, 56, 59, 65, 62, 56, 57, 54, 52, 52, 63, 80, 51, 60, 54, 52, 60, 67, 52, 63, 59, 72, 62, 52, 58, 53, 57, 74, 67, 57, 58, 72, 69, 54, 52, 51, 58, 65, 57, 59, 52, 57, 55, 60, 60, 51, 52, 52, 65, 58, 52, 60, 71, 58, 70, 58, 66, 54, 60, 65, 55, 56, 55, 55, 58, 54, 59, 53, 51, 55, 54, 61, 59, 60, 61, 68, 64, 56, 64, 57, 62, 53, 73, 72, 55, 63, 51, 62, 55, 61, 59, 71, 51, 55, 63, 54, 63, 51, 53, 53, 67, 81, 64, 51, 51, 54, 51, 51, 55, 67, 78, 60, 63, 51, 56, 58, 66, 54, 51, 51, 56, 76, 66, 90, 64, 61, 53, 52, 61, 54, 58, 62, 68, 69, 60, 58, 53, 63, 59, 56, 61, 51, 51, 54, 65, 88, 51, 58, 51, 59, 65, 51, 51, 59, 61, 61, 54, 63, 53, 55, 75, 52, 55, 65, 62, 54, 51, 52, 57, 53, 69, 73, 51, 67, 52, 65, 57, 58, 63, 58, 51, 61, 55, 52, 57, 51, 71, 57, 59, 61, 62, 58, 61, 52, 51, 53, 52, 61, 54, 65, 59, 54, 54, 51, 55, 53, 52, 53, 57, 59, 58, 61, 56, 51, 60, 56, 76, 70, 61, 69, 58, 53, 57, 53, 64, 60, 58, 66, 59, 59, 52, 62, 59, 69, 56, 62, 75, 51, 52, 72, 51, 65, 55, 57, 57, 67, 58, 54, 60, 61, 51, 52, 67, 57, 54, 52, 65, 55, 71, 59, 55, 62, 52, 51, 64, 53, 53, 51, 54, 56, 73, 51, 55, 64, 57, 60, 53, 51, 65, 71, 51, 59, 66, 63, 52, 59, 73, 52, 57, 51, 52, 51, 51, 52, 56, 58, 70, 53, 63, 61, 60, 63, 68, 55, 68, 62, 68, 65, 52, 57, 90, 56, 57, 77, 66, 68, 64, 51, 55, 53, 60, 54, 75, 51, 66, 72, 57, 57, 63, 61, 53, 53, 53, 60, 66, 63, 51, 51, 59, 51, 51, 56, 52, 61, 52, 58, 66, 57, 61, 61, 54, 56, 52, 58, 75, 66, 57, 61, 59, 51, 60, 64, 54, 63, 74, 65, 55, 60, 64, 53, 57, 51, 59, 60, 54, 51, 63, 51, 58, 64, 63, 52, 56, 90, 53, 64, 56, 58, 58, 62, 65, 63, 56, 53, 51, 62, 67, 61, 74, 57, 55, 54, 63, 56, 53, 70, 57, 54, 51, 55, 66, 68, 61, 55, 60, 61, 61, 54, 60, 64, 69, 69, 55, 74, 75, 55, 52, 54, 76, 57, 60, 52, 61, 57, 59, 70, 51, 54, 52, 65, 63, 54, 59, 51, 55, 58, 54, 53, 56, 54, 56, 67, 52, 57, 51, 77, 67, 60, 56, 74, 52, 54, 55, 66, 52, 52, 55, 70, 51, 62, 64, 55, 61, 78, 55, 61, 64, 56, 56, 52, 72, 51, 54, 62, 58, 57, 55, 53, 80, 56, 51, 55, 59, 61, 61, 54, 64, 55, 61, 53, 53, 54, 63, 57, 58, 69, 54, 56, 56, 53, 71, 65, 90, 56, 64, 67, 53, 81, 55, 63, 56, 52, 75, 53, 60, 68, 75, 53, 61, 55, 64, 62, 72, 55, 64, 55, 51, 57, 51, 60, 61, 71, 61, 54, 53, 57, 59, 69, 72, 74, 51, 60, 65, 61, 52, 54, 55, 64, 60, 51, 55, 64, 56, 59, 58, 53, 53, 58, 54, 59, 51, 71, 51, 62, 59, 82, 74, 59, 59, 53, 57, 58, 52, 56, 52, 64, 73, 52, 58, 59, 74, 62, 76, 53, 61, 58, 56, 68, 59, 63, 59, 53, 79, 57, 57, 51, 61, 51, 51, 61, 53, 58, 66, 52, 52, 61, 54, 53, 63, 53, 59, 56, 55, 63, 59, 55, 69, 55, 52, 62, 51, 55, 59, 52, 63, 81, 57, 56, 67, 51, 56, 51, 57, 57, 58, 68, 53, 63, 54, 74, 61, 59, 53, 72, 61, 73, 65, 52, 52, 63, 71, 60, 76, 63, 61, 53, 55, 57, 62, 51, 75, 53, 51, 70, 70, 58, 53, 54, 64, 56, 68, 57, 55, 51, 52, 74, 80, 63, 63, 51, 66, 52, 53, 53, 65, 68, 54, 51, 51, 54, 57, 52, 62, 55, 60, 51, 51, 62, 54, 68, 61, 51, 54, 63, 51, 63, 51, 53, 54, 62, 57, 53, 69, 56, 53, 61, 51, 72, 57, 52, 53, 75, 53, 63, 52, 62, 83, 59, 67, 55, 64, 52, 77, 52, 54, 63, 64, 59, 72, 57, 57, 51, 51, 58, 66, 90, 59, 52, 59, 59, 57, 51, 52, 90, 65, 54, 65, 56, 55, 52, 66, 63, 66, 52, 54, 54, 63, 67, 66, 67, 76, 51, 59, 55, 64, 54, 53, 51, 54, 75, 61, 51, 68, 52, 72, 59, 64, 64, 59, 66, 54, 58, 56, 65, 64, 63, 51, 68, 51, 56, 54, 53, 63, 53, 67, 64, 53, 52, 54, 52, 52, 60, 51, 54, 52, 53, 56, 58, 64, 53, 52, 56, 68, 57, 52, 56, 73, 51, 64, 53, 59, 55, 60, 52, 61, 60, 57, 56, 63, 57, 53, 51, 67, 55, 58, 52, 57, 54, 65, 55, 53, 77, 58, 59, 66, 58, 59, 53, 64, 62, 61, 51, 56, 55, 59, 60, 79, 60, 69, 55, 55, 51, 62, 65, 60, 70, 76, 54, 65, 63, 66, 67, 58, 59, 51, 69, 59, 56, 51, 52, 56, 53, 81, 57, 68, 60, 60, 75, 57, 58, 51, 54, 55, 60, 63, 65, 60, 51, 51, 56, 55, 52, 58, 55, 63, 76, 56, 57, 59, 52, 63, 55, 55, 53, 55, 52, 52, 57, 62, 68, 61, 53, 52, 53, 65, 62, 54, 90, 57, 52, 59, 55, 60, 57, 52, 58, 57, 51, 54, 73, 58, 67, 65, 66, 51, 61, 63, 76, 76, 53, 63, 51, 54, 61, 51, 51, 52, 57, 52, 58, 52, 63, 51, 57, 59, 90, 54, 80, 77, 53, 57, 59, 52, 58, 53, 74, 61, 54, 60, 90, 55, 63, 59, 61, 63, 57, 90, 60, 71, 74, 67, 59, 63, 53, 51, 56, 52, 56, 55, 53, 60, 54, 51, 61, 56, 62, 55, 53, 56, 60, 55, 69, 62, 54, 57, 51, 51, 58, 57, 64, 60, 54, 58, 59, 55, 57, 78, 66, 60, 59, 55, 57, 53, 54, 56, 51, 57, 62, 56, 56, 53, 72, 54, 51, 76, 60, 60, 55, 53, 69, 71, 59, 63, 51, 51, 56, 60, 56, 61, 60, 56, 57, 54, 62, 52, 58, 52, 61, 51, 76, 53, 53, 65, 54, 60, 78, 58, 67, 73, 66, 66, 64, 51, 51, 59, 62, 58, 64, 63, 60, 55, 73, 57, 57, 52, 71, 52, 53, 56, 51, 59, 64, 53, 62, 58, 56, 79, 51, 52, 51, 67, 65, 57, 51, 52, 55, 61, 78, 55, 52, 61, 65, 56, 56, 57, 58, 55, 52, 56, 55, 55, 51, 59, 58, 54, 57, 54, 57, 56, 60, 58, 56, 58, 63, 51, 64, 54, 59, 57, 53, 58, 55, 51, 70, 61, 56, 79, 60, 58, 71, 60, 84, 55, 55, 54, 52, 52, 66, 90, 67, 55, 56, 53, 51, 63, 55, 51, 52, 70, 53, 59, 70, 77, 51, 58, 54, 57, 66, 70, 75, 51, 61, 59, 56, 57, 61, 58, 51, 64, 55, 54, 74, 58, 54, 80, 55, 51, 60, 51, 55, 62, 59, 70, 52, 67, 53, 54, 54, 53, 57, 51, 51, 54, 66, 61, 51, 63, 63, 55, 75, 61, 53, 55, 58, 61, 64, 51, 77, 66, 62, 66, 56, 90, 72, 57, 54, 58, 52, 51, 58, 63, 51, 60, 54, 55, 57, 56, 51, 51, 61, 58, 52, 63, 61, 75, 81, 54, 54, 61, 63, 53, 63, 71, 57, 54, 51, 59, 67, 64, 52, 73, 59, 55, 55, 56, 68, 60, 52, 58, 67, 63, 51, 54, 52, 73, 52, 57, 56, 59, 53, 54, 60, 65, 67, 62, 55, 56, 60, 63, 60, 69, 51, 60, 69, 54, 56, 63, 64, 55, 63, 57, 58, 61, 56, 73, 64, 52, 61, 58, 51, 56, 59, 55, 56, 58, 56, 56, 55, 53, 57, 52, 58, 54, 69, 52, 52, 68, 54, 64, 56, 67, 52, 65, 64, 63, 53, 63, 53, 52, 53, 58, 54, 51, 53, 54, 53, 63, 59, 66, 64, 60, 67, 58, 53, 60, 52, 60, 56, 59, 60, 60, 59, 55, 55, 62, 51, 56, 53, 54, 68, 54, 54, 70, 83, 59, 53, 66, 74, 51, 51, 53, 62, 54, 71, 56, 64, 54, 64, 61, 51, 63, 51, 60, 60, 61, 65, 56, 55, 62, 62, 65, 60, 53, 57, 64, 58, 51, 53, 58, 57, 69, 56, 70, 58, 58, 69, 84, 53, 58, 51, 56, 54, 68, 56, 69, 62, 53, 53, 58, 52, 52, 55, 54, 53, 62, 59, 58, 61, 51, 70, 55, 68, 57, 53, 59, 81, 51, 52, 59, 73, 62, 52, 51, 54, 58, 58, 67, 55, 51, 66, 60, 53, 51, 51, 64, 62, 52, 55, 61, 57, 54, 55, 67, 54, 51, 59, 52, 53, 57, 59, 52, 51, 59, 57, 60, 53, 63, 79, 60, 58, 59, 68, 56, 73, 66, 51, 65, 57, 65, 62, 76, 52, 62, 62, 56, 55, 56, 57, 73, 51, 58, 69, 69, 54, 64, 53, 57, 51, 54, 53, 58, 61, 56, 59, 72, 51, 61, 64, 62, 53, 56, 61, 85, 60, 69, 65, 51, 56, 82, 67, 78, 67, 66, 52, 59, 72, 63, 58, 75, 52, 66, 54, 61, 79, 64, 70, 51, 77, 62, 69, 57, 64, 59, 51, 53, 62, 62, 59, 57, 70, 53, 60, 57, 65, 60, 61, 58, 59, 58, 65, 80, 70, 52, 67, 55, 62, 64, 52, 56, 53, 51, 54, 53, 52, 55, 55, 57, 56, 57, 57, 61, 60, 58, 90, 69, 58, 69, 53, 54, 66, 68, 56, 57, 53, 61, 64, 52, 63, 65, 57, 55, 73, 76, 54, 51, 56, 53, 60, 65, 57, 57, 59, 90, 61, 55, 90, 63, 60, 53, 53, 58, 51, 58, 62, 56, 56, 51, 57, 77, 55, 74, 51, 58, 52, 53, 54, 73, 67, 56, 59, 58, 68, 66, 71, 54, 52, 68, 51, 57, 66, 77, 70, 59, 75, 53, 58, 72, 51, 54, 60, 58, 58, 55, 60, 53, 72, 52, 58, 60, 59, 53, 59, 52, 54, 59, 54, 64, 51, 52, 51, 52, 63, 52, 69, 59, 51, 64, 51, 69, 62, 58, 64, 66, 55, 53, 60, 54, 60, 62, 54, 62, 54, 58, 64, 55, 58, 55, 59, 55, 84, 62, 52, 62, 52, 63, 70, 61, 61, 58, 58, 65, 52, 52, 52, 60, 69, 56, 65, 73, 62, 53, 53, 58, 63, 55, 58, 55, 55, 53, 60, 53, 52, 62, 51, 57, 62, 64, 62, 69, 57, 52, 64, 70, 58, 60, 51, 56, 52, 55, 51, 62, 52, 52, 51, 62, 69, 78, 61, 64, 51, 57, 78, 61, 67, 58, 51, 55, 52, 66, 59, 67, 52, 63, 51, 64, 67, 60, 56, 55, 59, 53, 63, 61, 56, 51, 61, 63, 63, 55, 58, 52, 53, 68, 59, 76, 65, 64, 68, 53, 51, 69, 73, 67, 63, 67, 51, 61, 73, 67, 55, 64, 54, 51, 53, 68, 56, 70, 74, 61, 61, 52, 71, 56, 62, 58, 57, 51, 61, 51, 52, 56, 51, 80, 57, 51, 77, 51, 51, 58, 52, 59, 54, 65, 55, 68, 60, 56, 59, 51, 55, 90, 52, 54, 51, 54, 55, 52, 59, 74, 52, 56, 52, 55, 55, 63, 51, 67, 54, 59, 51, 69, 59, 64, 70, 54, 62, 61, 73, 65, 64, 56, 60, 52, 56, 67, 51, 54, 59, 59, 51, 60, 63, 63, 51, 64, 65, 51, 58, 63, 63, 51, 56, 56, 53, 52, 74, 56, 54, 56, 55, 67, 60, 54, 66, 51, 90, 78, 77, 70, 51, 66, 57, 51, 60, 57, 69, 51, 53, 52, 54, 62, 57, 65, 52, 59, 71, 57, 71, 57, 64, 58, 53, 54, 68, 77, 70, 57, 55, 61, 55, 56, 76, 64, 63, 54, 53, 55, 58, 76, 67, 61, 58, 52, 54, 65, 68, 51, 57, 53, 59, 51, 71, 74, 64, 56, 53, 54, 59, 58, 53, 63, 72, 51, 68, 56, 52, 56, 52, 51, 58, 54, 60, 65, 52, 66, 53, 54, 52, 60, 61, 55, 55, 68, 72, 58, 62, 58, 53, 52, 69, 57, 55, 79, 67, 55, 55, 52, 51, 73, 52, 57, 52, 65, 59, 73, 64, 62, 51, 54, 65, 60, 62, 66, 70, 74, 51, 58, 66, 84, 53, 54, 78, 57, 70, 58, 59, 62, 51, 73, 52, 67, 55, 63, 66, 65, 60, 60, 75, 58, 65, 52, 59, 53, 73, 58, 53, 51, 63, 62, 56, 58, 59, 52, 61, 59, 56, 67, 54, 52, 62, 53, 69, 56, 54, 73, 69, 54, 76, 73, 74, 90, 69, 52, 79, 63, 63, 65, 62, 61, 63, 57, 64, 56, 55, 71, 56, 51, 53, 54, 52, 59, 59, 52, 52, 51, 67, 58, 68, 71, 57, 51, 69, 59, 64, 56, 51, 67, 51, 55, 67, 62, 73, 61, 90, 76, 65, 58, 54, 69, 61, 57, 56, 51, 78, 61, 55, 53, 54, 62, 59, 68, 59, 58, 67, 54, 52, 52, 51, 57, 60, 63, 53, 56, 58, 57, 71, 54, 57, 55, 54, 58, 60, 52, 59, 51, 58, 55, 76, 51, 51, 53, 61, 90, 51, 55, 65, 67, 56, 52, 53, 65, 54, 70, 53, 55, 63, 61, 55, 61, 56, 66, 65, 52, 55, 54, 67, 56, 54, 60, 55, 72, 53, 69, 55, 64, 53, 61, 64, 53, 55, 52, 57, 60, 65, 52, 57, 61, 53, 52, 57, 58, 57, 57, 54, 55, 76, 75, 51, 60, 73, 57, 53, 55, 72, 60, 55, 68, 52, 68, 52, 53, 57, 59, 59, 62, 63, 60, 52, 60, 64, 69, 61, 70, 68, 52, 71, 55, 57, 55, 55, 59, 54, 90, 56, 60, 57, 56, 59, 82, 60, 60, 63, 65, 62, 60, 51, 53, 52, 64, 53, 56, 56, 62, 65, 65, 56, 51, 57, 74, 56, 56, 62, 52, 63, 51, 62, 61, 70, 55, 53, 77, 51, 61, 63, 65, 51, 56, 69, 52, 63, 58, 67, 62, 58, 58, 60, 55, 64, 55, 65, 68, 57, 51, 52, 64, 51, 51, 52, 58, 53, 54, 81, 69, 52, 57, 57, 60, 51, 60, 59, 56, 56, 56, 61, 51, 54, 59, 65, 56, 57, 61, 67, 51, 60, 69, 65, 52, 52, 67, 64, 51, 52, 90, 60, 53, 76, 58, 52, 62, 64, 51, 57, 54, 52, 84, 79, 56, 54, 60, 58, 53, 71, 58, 63, 61, 62, 57, 56, 53, 51, 77, 64, 67, 60, 51, 52, 66, 51, 71, 63, 51, 65, 53, 53, 54, 71, 62, 66, 63, 55, 63, 54, 78, 77, 54, 62, 69, 53, 68, 57, 58, 68, 65, 55, 66, 53, 64, 65, 53, 61, 59, 81, 55, 60, 54, 51, 64, 61, 56, 56, 71, 51, 54, 52, 63, 54, 57, 54, 57, 57, 61, 53, 75, 60, 56, 66, 55, 65, 61, 51, 75, 55, 64, 65, 58, 63, 59, 51, 51, 57, 62, 64, 52, 54, 59, 74, 54, 54, 57, 57, 53, 64, 55, 55, 58, 57, 54, 71, 68, 78, 62, 55, 51, 62, 58, 64, 55, 70, 57, 52, 51, 63, 82, 59, 57, 60, 56, 51, 63, 58, 51, 72, 61, 65, 64, 61, 73, 66, 53, 57, 59, 52, 59, 63, 51, 56, 52, 59, 53, 54, 58, 53, 65, 54, 58, 72, 63, 58, 56, 55, 57, 57, 53, 70, 72, 64, 55, 55, 52, 73, 66, 69, 55, 70, 54, 60, 81, 51, 66, 65, 54, 77, 66, 52, 61, 52, 76, 54, 60, 76, 57, 52, 57, 51, 61, 71, 61, 57, 56, 60, 54, 51, 64, 54, 68, 59, 53, 59, 74, 80, 51, 58, 57, 57, 53, 52, 57, 51, 69, 63, 56, 90, 55, 66, 66, 71, 52, 52, 69, 54, 66, 61, 55, 56, 58, 62, 54, 53, 56, 57, 62, 72, 53, 54, 59, 69, 68, 65, 52, 54, 55, 51, 65, 58, 53, 56, 59, 75, 64, 67, 53, 73, 64, 54, 56, 54, 75, 62, 58, 52, 56, 52, 68, 64, 74, 51, 67, 67, 51, 53, 61, 67, 61, 60, 64, 52, 57, 51, 59, 65, 57, 51, 65, 52, 56, 59, 63, 53, 59, 60, 61, 66, 60, 68, 55, 66, 58, 56, 51, 53, 80, 61, 55, 71, 67, 56, 57, 62, 65, 55, 54, 52, 57, 58, 58, 72, 51, 51, 54, 62, 84, 67, 63, 55, 60, 65, 61, 51, 56, 82, 52, 53, 52, 57, 58, 59, 56, 58, 55, 52, 55, 55, 56, 60, 65, 73, 54, 55, 53, 51, 62, 58, 72, 72, 60, 70, 60, 51, 78, 72, 58, 56, 79, 55, 59, 67, 61, 65, 53, 53, 58, 51, 51, 56, 63, 61, 52, 59, 55, 66, 51, 52, 52, 70, 62, 52, 58, 64, 55, 52, 51, 62, 51, 52, 65, 60, 62, 53, 52, 63, 63, 62, 51, 76, 51, 53, 60, 54, 57, 51, 53, 54, 53, 57, 57, 74, 61, 56, 68, 62, 62, 65, 53, 54, 59, 73, 55, 53, 53, 74, 53, 60, 59, 73, 58, 62, 58, 51, 52, 54, 59, 55, 70, 54, 54, 54, 67, 57, 60, 53, 53, 57, 62, 52, 57, 56, 90, 54, 59, 55, 67, 51, 55, 55, 59, 51, 51, 62, 51, 57, 63, 59, 67, 64, 56, 57, 56, 66, 71, 61, 51, 51, 52, 67, 58, 67, 61, 55, 51, 51, 62, 54, 54, 68, 59, 53, 53, 52, 53, 53, 61, 74, 75, 61, 60, 51, 53, 68, 63, 58, 63, 59, 54, 66, 59, 62, 60, 58, 59, 72, 68, 56, 52, 52, 84, 66, 62, 60, 60, 51, 57, 68, 56, 56, 62, 55, 51, 52, 53, 56, 58, 59, 53, 63, 52, 53, 67, 58, 52, 55, 64, 61, 53, 60, 51, 59, 66, 53, 68, 62, 57, 58, 59, 56, 60, 73, 90, 62, 62, 61, 56, 58, 54, 72, 54, 58, 65, 52, 65, 53, 58, 60, 54, 63, 51, 59, 67, 65, 55, 63, 57, 74, 54, 63, 58, 68, 64, 54, 57, 55, 69, 57, 58, 58, 59, 53, 54, 51, 59, 55, 65, 60, 57, 57, 51, 53, 54, 58, 59, 58, 69, 74, 58, 54, 60, 62, 63, 51, 71, 69, 57, 58, 56, 55, 62, 57, 51, 58, 56, 60, 56, 51, 58, 57, 68, 70, 51, 62, 51, 57, 54, 52, 52, 59, 56, 58, 52, 55, 61, 64, 56, 56, 61, 63, 55, 51, 56, 83, 52, 52, 58, 59, 61, 51, 53, 63, 53, 68, 57, 66, 54, 59, 64, 61, 53, 67, 54, 57, 57, 51, 55, 55, 59, 56, 57, 53, 59, 52, 62, 55, 58, 67, 52, 59, 54, 57, 51, 51, 72, 58, 63, 51, 75, 52, 69, 52, 51, 75, 55, 61, 79, 51, 62, 63, 64, 59, 70, 66, 61, 59, 68, 73, 51, 53, 53, 53, 59, 62, 60, 52, 54, 51, 65, 78, 59, 55, 61, 53, 59, 60, 55, 51, 51, 52, 64, 81, 55, 52, 54, 64, 51, 63, 51, 69, 56, 66, 55, 73, 53, 71, 69, 51, 53, 53, 53, 63, 54, 58, 80, 52, 62, 58, 59, 58, 62, 55, 62, 51, 66, 54, 54, 71, 51, 75, 57, 64, 53, 52, 51, 77, 72, 78, 51, 60, 56, 57, 61, 56, 61, 60, 56, 58, 55, 51, 54, 53, 61, 65, 67, 51, 54, 51, 59, 66, 66, 51, 52, 63, 57, 54, 52, 57, 51, 58, 61, 57, 58, 59, 53, 54, 60, 58, 56, 58, 57, 59, 52, 54, 52, 65, 63, 57, 64, 73, 57, 55, 59, 59, 58, 66, 75, 60, 52, 55, 76, 57, 53, 55, 65, 70, 57, 63, 51, 59, 58, 51, 62, 59, 57, 51, 69, 51, 64, 61, 51, 54, 63, 70, 62, 61, 52, 61, 69, 70, 52, 59, 53, 55, 78, 68, 51, 53, 53, 64, 57, 51, 52, 64, 58, 71, 52, 59, 76, 57, 56, 55, 52, 55, 55, 62, 79, 61, 60, 51, 52, 62, 51, 63, 63, 61, 57, 65, 57, 59, 59, 68, 63, 56, 62, 58, 69, 54, 65, 56, 51, 62, 60, 51, 66, 52, 67, 54, 69, 67, 51, 60, 58, 55, 54, 57, 58, 54, 60, 66, 62, 57, 57, 57, 64, 55, 68, 58, 55, 54, 52, 57, 67, 58, 66, 58, 62, 53, 71, 52, 56, 58, 57, 58, 68, 53, 53, 60, 59, 53, 55, 56, 54, 51, 66, 71, 60, 54, 63, 64, 53, 80, 53, 58, 52, 52, 54, 55, 71, 72, 65, 68, 72, 56, 58, 55, 64, 51, 79, 58, 63, 65, 51, 52, 53, 56, 71, 51, 52, 57, 52, 59, 67, 72, 58, 56, 51, 53, 54, 62, 64, 60, 67, 53, 55, 58, 74, 61, 57, 80, 90, 55, 72, 65, 54, 55, 60, 58, 57, 51, 62, 68, 53, 62, 72, 74, 70, 52, 66, 51, 54, 69, 90, 65, 58, 57, 67, 54, 70, 61, 51, 51, 66, 57, 74, 65, 64, 54, 56, 66, 60, 54, 57, 62, 55, 62, 70, 71, 52, 53, 59, 65, 53, 63, 67, 52, 54, 68, 80, 63, 64, 73, 53, 58, 53, 54, 56, 60, 59, 59, 60, 52, 63, 63, 58, 70, 62, 58, 59, 66, 52, 56, 64, 70, 59, 51, 73, 51, 57, 55, 60, 73, 73, 54, 68, 60, 90, 58, 65, 69, 58, 58, 53, 54, 52, 54, 51, 55, 59, 68, 56, 58, 57, 90, 66, 73, 53, 53, 53, 53, 52, 54, 53, 59, 53, 58, 68, 55, 52, 54, 56, 59, 66, 63, 58, 65, 51, 58, 52, 62, 53, 61, 68, 55, 58, 56, 51, 56, 65, 52, 61, 63, 52, 60, 81, 56, 57, 53, 58, 53, 56, 55, 51, 62, 62, 57, 60, 51, 61, 52, 76, 58, 62, 60, 51, 71, 73, 66, 60, 59, 58, 58, 69, 59, 53, 53, 53, 58, 60, 67, 52, 83, 51, 51, 82, 53, 66, 64, 62, 52, 52, 90, 69, 57, 73, 57, 69, 56, 53, 54, 53, 56, 60, 53, 67, 64, 53, 59, 61, 51, 70, 65, 64, 68, 60, 55, 52, 72, 62, 59, 67, 60, 63, 55, 53, 58, 55, 58, 62, 58, 61, 59, 67, 58, 52, 53, 52, 55, 64, 55, 63, 56, 59, 53, 90, 63, 76, 81, 56, 58, 55, 80, 56, 63, 54, 54, 71, 51, 52, 55, 51, 54, 60, 55, 53, 64, 61, 51, 54, 55, 57, 51, 63, 59, 64, 53, 57, 51, 53, 68, 51, 52, 52, 53, 69, 56, 56, 80, 52, 54, 66, 70, 58, 60, 61, 52, 52, 58, 57, 90, 66, 52, 63, 58, 59, 64, 63, 51, 55, 55, 60, 53, 58, 61, 52, 64, 54, 79, 55, 60, 53, 58, 55, 60, 52, 77, 53, 58, 57, 77, 51, 53, 60, 53, 70, 55, 56, 62, 58, 55, 54, 55, 53, 66, 59, 61, 67, 59, 56, 63, 59, 56, 55, 72, 54, 63, 72, 55, 71, 57, 56, 64, 61, 52, 60, 65, 61, 68, 65, 58, 54, 57, 56, 62, 65, 65, 55, 56, 59, 56, 63, 51, 65, 54, 70, 52, 64, 52, 62, 68, 62, 56, 55, 52, 64, 52, 53, 52, 60, 64, 63, 54, 63, 54, 54, 60, 51, 57, 53, 52, 52, 54, 51, 60, 65, 55, 80, 59, 52, 56, 69, 51, 66, 52, 65, 70, 58, 65, 65, 55, 66, 69, 53, 60, 76, 54, 63, 51, 56, 61, 58, 66, 55, 60, 60, 70, 58, 54, 65, 82, 68, 54, 59, 70, 57, 63, 60, 64, 71, 55, 85, 57, 58, 57, 64, 55, 80, 79, 58, 51, 52, 68, 65, 52, 62, 51, 57, 59, 55, 57, 55, 52, 62, 73, 68, 54, 63, 67, 67, 54, 54, 72, 90, 71, 56, 57, 55, 66, 58, 62, 77, 51, 58, 55, 68, 60, 57, 59, 60, 55, 52, 62, 56, 55, 61, 55, 55, 71, 62, 51, 56, 51, 62, 76, 54, 55, 56, 55, 54, 81, 57, 65, 53, 58, 51, 52, 53, 76, 56, 51, 58, 55, 60, 61, 63, 61, 53, 79, 54, 51, 59, 59, 55, 77, 60, 52, 52, 58, 59, 52, 57, 80, 52, 63, 52, 52, 60, 54, 61, 59, 51, 61, 53, 51, 54, 60, 57, 63, 55, 64, 64, 56, 59, 70, 76, 60, 54, 54, 54, 61, 53, 68, 54, 52, 58, 67, 69, 61, 76, 53, 59, 63, 57, 58, 59, 58, 53, 74, 64, 63, 52, 55, 71, 51, 53, 58, 51, 60, 58, 62, 59, 64, 51, 68, 65, 52, 61, 61, 53, 51, 69, 55, 60, 62, 65, 57, 53, 62, 61, 51, 59, 65, 79, 54, 77, 62, 61, 62, 57, 60, 62, 66, 54, 62, 60, 74, 63, 59, 51, 55, 54, 52, 59, 55, 54, 53, 53, 58, 55, 74, 56, 57, 59, 58, 75, 81, 59, 78, 61, 52, 55, 51, 52, 55, 65, 59, 52, 51, 53, 62, 55, 60, 61, 71, 51, 55, 52, 52, 69, 57, 69, 61, 52, 51, 55, 65, 56, 57, 56, 68, 68, 59, 66, 67, 72, 60, 67, 77, 62, 52, 61, 55, 66, 63, 55, 82, 60, 53, 51, 57, 56, 55, 88, 60, 56, 67, 53, 51, 63, 52, 51, 65, 58, 57, 65, 71, 67, 56, 57, 54, 63, 67, 65, 52, 55, 62, 70, 57, 70, 51, 59, 57, 56, 72, 76, 53, 69, 55, 52, 58, 52, 58, 52, 58, 67, 62, 54, 56, 59, 53, 52, 66, 55, 54, 59, 55, 67, 56, 57, 57, 59, 56, 53, 59, 59, 55, 53, 56, 55, 54, 52, 53, 90, 53, 56, 62, 67, 59, 63, 56, 69, 56, 61, 59, 59, 54, 53, 54, 56, 53, 52, 61, 54, 56, 69, 51, 64, 68, 51, 52, 51, 52, 52, 51, 58, 53, 60, 68, 51, 55, 51, 71, 59, 51, 67, 68, 53, 57, 82, 65, 63, 59, 62, 59, 51, 54, 56, 52, 60, 62, 65, 64, 55, 63, 53, 53, 59, 53, 55, 53, 61, 58, 51, 51, 60, 51, 56, 60, 64, 51, 53, 57, 51, 59, 51, 54, 53, 53, 51, 54, 76, 53, 53, 52, 53, 61, 53, 66, 65, 71, 56, 60, 65, 53, 53, 53, 55, 57, 53, 61, 61, 58, 56, 59, 65, 57, 60, 61, 57, 54, 58, 88, 84, 58, 57, 52, 59, 60, 69, 60, 64, 51, 51, 74, 57, 54, 71, 62, 56, 51, 53, 58, 52, 56, 56, 56, 62, 52, 59, 59, 64, 53, 70, 59, 63, 53, 65, 64, 68, 56, 68, 53, 56, 53, 75, 51, 68, 57, 54, 56, 64, 60, 65, 72, 59, 59, 59, 52, 51, 55, 61, 52, 51, 61, 72, 54, 58, 62, 67, 63, 60, 51, 66, 52, 71, 59, 55, 63, 59, 58, 66, 57, 57, 56, 56, 56, 71, 70, 76, 64, 53, 52, 77, 53, 57, 62, 66, 63, 52, 55, 64, 51, 56, 55, 70, 83, 69, 54, 71, 56, 55, 58, 51, 59, 56, 60, 53, 62, 58, 76, 60, 72, 59, 59, 69, 54, 65, 70, 53, 55, 53, 71, 52, 56, 64, 54, 61, 62, 51, 54, 54, 51, 52, 58, 53, 55, 54, 56, 72, 53, 70, 56, 55, 55, 57, 70, 56, 64, 56, 72, 69, 56, 58, 58, 63, 56, 58, 55, 61, 57, 62, 60, 67, 55, 65, 72, 75, 51, 51, 67, 59, 68, 60, 51, 52, 51, 56, 71, 69, 58, 62, 51, 64, 54, 66, 63, 65, 51, 67, 77, 57, 54, 51, 51, 68, 58, 61, 57, 79, 73, 59, 62, 71, 60, 65, 77, 59, 59, 56, 58, 70, 60, 59, 62, 55, 55, 63, 51, 58, 65, 52, 53, 86, 60, 59, 64, 90, 51, 62, 62, 63, 54, 61, 67, 60, 56, 54, 52, 52, 58, 61, 59, 59, 66, 55, 56, 55, 52, 62, 70, 51, 58, 77, 54, 59, 56, 59, 52, 69, 60, 51, 75, 58, 58, 51, 67, 90, 62, 70, 65, 57, 66, 53, 61, 58, 56, 61, 66, 67, 59, 82, 57, 55, 72, 68, 54, 56, 66, 51, 65, 53, 56, 51, 53, 52, 61, 55, 62, 55, 57, 67, 51, 51, 62, 54, 55, 51, 60, 62, 83, 60, 76, 52, 73, 60, 54, 58, 55, 63, 62, 52, 58, 52, 54, 60, 54, 60, 52, 51, 51, 61, 51, 69, 63, 55, 52, 56, 60, 70, 57, 68, 59, 53, 63, 60, 55, 51, 53, 81, 56, 52, 52, 62, 57, 52, 57, 64, 56, 52, 54, 53, 64, 62, 57, 56, 53, 72, 52, 60, 68, 53, 60, 67, 57, 53, 51, 51, 54, 59, 54, 54, 67, 51, 58, 51, 59, 54, 58, 56, 74, 62, 51, 73, 52, 57, 58, 72, 53, 54, 61, 57, 63, 69, 69, 58, 54, 55, 63, 62, 51, 61, 61, 55, 64, 58, 56, 53, 68, 69, 62, 62, 65, 52, 53, 55, 67, 55, 53, 58, 53, 57, 57, 54, 52, 53, 53, 66, 60, 63, 65, 61, 55, 59, 70, 53, 74, 57, 56, 51, 51, 57, 61, 59, 52, 55, 75, 79, 59, 63, 58, 51, 51, 52, 52, 74, 61, 65, 53, 54, 58, 52, 53, 58, 78, 60, 69, 61, 56, 51, 51, 61, 56, 69, 57, 53, 90, 51, 56, 51, 64, 60, 66, 52, 54, 54, 56, 55, 64, 65, 57, 60, 59, 76, 57, 66, 80, 59, 63, 53, 52, 59, 52, 54, 54, 53, 51, 54, 60, 52, 56, 57, 54, 54, 55, 51, 56, 59, 53, 68, 68, 58, 67, 53, 52, 62, 55, 54, 66, 56, 58, 54, 69, 55, 51, 67, 58, 51, 58, 60, 73, 59, 58, 59, 52, 61, 51, 61, 55, 57, 59, 59, 58, 53, 60, 56, 56, 52, 53, 52, 61, 69, 53, 70, 57, 60, 59, 53, 60, 52, 53, 53, 62, 73, 64, 51, 53, 58, 60, 52, 63, 67, 62, 59, 62, 54, 67, 62, 52, 57, 64, 56, 53, 53, 63, 54, 55, 58, 73, 53, 75, 58, 62, 70, 54, 55, 67, 51, 64, 62, 62, 70, 52, 62, 53, 51, 53, 66, 74, 51, 53, 54, 58, 69, 53, 57, 56, 61, 55, 51, 63, 67, 63, 53, 61, 56, 66, 69, 64, 59, 56, 68, 81, 58, 52, 67, 60, 65, 60, 52, 56, 55, 51, 71, 59, 57, 62, 51, 51, 61, 53, 51, 64, 54, 68, 64, 61, 66, 57, 59, 64, 62, 60, 63, 52, 51, 53, 67, 54, 51, 52, 79, 51, 65, 66, 60, 60, 53, 74, 68, 57, 55, 56, 63, 53, 60, 56, 55, 53, 55, 65, 59, 63, 51, 54, 59, 56, 59, 51, 64, 59, 60, 57, 54, 68, 58, 64, 54, 60, 60, 59, 54, 59, 54, 51, 51, 61, 53, 52, 52, 74, 76, 66, 63, 70, 62, 59, 59, 54, 62, 58, 67, 51, 54, 74, 61, 60, 67, 60, 62, 54, 60, 62, 62, 55, 67, 61, 53, 53, 55, 55, 54, 55, 66, 59, 59, 60, 53, 73, 51, 56, 53, 65, 70, 55, 52, 59, 56, 58, 65, 51, 84, 51, 57, 64, 63, 53, 54, 62, 51, 65, 54, 62, 58, 69, 64, 53, 54, 52, 53, 51, 62, 51, 66, 52, 53, 53, 67, 53, 53, 61, 78, 54, 66, 51, 51, 67, 62, 56, 72, 61, 51, 63, 73, 51, 54, 65, 51, 60, 60, 61, 51, 65, 61, 67, 63, 58, 61, 60, 57, 63, 59, 58, 76, 53, 51, 55, 57, 62, 71, 55, 63, 57, 56, 60, 59, 72, 55, 61, 58, 69, 66, 62, 56, 51, 52, 58, 56, 54, 51, 58, 60, 56, 57, 76, 57, 58, 51, 53, 59, 59, 61, 66, 68, 66, 62, 52, 61, 55, 56, 55, 51, 70, 52, 61, 56, 52, 63, 52, 62, 53, 70, 65, 64, 61, 61, 51, 55, 59, 60, 61, 64, 63, 55, 52, 57, 61, 51, 59, 54, 65, 61, 68, 54, 67, 61, 54, 58, 62, 54, 76, 55, 51, 65, 54, 59, 62, 51, 52, 60, 59, 56, 56, 67, 54, 59, 51, 64, 61, 78, 51, 55, 59, 53, 53, 75, 56, 60, 58, 67, 54, 63, 55, 55, 73, 56, 59, 52, 61, 68, 51, 61, 52, 71, 54, 57, 56, 61, 61, 52, 55, 61, 60, 57, 52, 68, 72, 55, 52, 66, 65, 57, 54, 62, 53, 84, 61, 56, 71, 53, 54, 59, 56, 61, 60, 55, 55, 54, 61, 62, 55, 55, 60, 51, 51, 66, 52, 61, 51, 59, 68, 55, 61, 57, 51, 60, 53, 65, 51, 62, 67, 55, 54, 56, 66, 52, 59, 59, 62, 54, 54, 62, 54, 66, 52, 61, 61, 61, 62, 63, 55, 51, 54, 65, 58, 61, 58, 52, 61, 54, 68, 56, 55, 51, 67, 62, 52, 55, 51, 79, 67, 78, 64, 58, 55, 70, 53, 72, 64, 51, 53, 60, 51, 64, 63, 52, 58, 54, 65, 61, 70, 51, 57, 53, 57, 61, 56, 59, 64, 53, 59, 65, 62, 62, 53, 69, 52, 54, 58, 73, 64, 51, 57, 53, 54, 53, 66, 53, 57, 75, 69, 52, 55, 61, 61, 61, 53, 60, 90, 54, 51, 69, 57, 71, 52, 52, 55, 52, 54, 57, 55, 51, 73, 60, 52, 68, 63, 68, 59, 59, 67, 64, 51, 65, 63, 52, 63, 75, 52, 51, 57, 61, 61, 55, 51, 56, 54, 51, 54, 57, 54, 58, 51, 71, 53, 64, 66, 59, 63, 57, 56, 70, 80, 52, 70, 55, 59, 62, 54, 52, 74, 51, 65, 72, 67, 67, 51, 68, 64, 63, 55, 53, 68, 56, 55, 52, 55, 67, 61, 51, 62, 51, 68, 53, 69, 59, 59, 57, 55, 58, 57, 61, 51, 52, 56, 81, 66, 55, 60, 58, 63, 57, 54, 67, 75, 52, 56, 59, 54, 64, 58, 52, 60, 53, 53, 64, 68, 73, 51, 64, 58, 53, 56, 78, 67, 75, 51, 54, 61, 55, 66, 67, 52, 59, 59, 53, 59, 63, 60, 58, 58, 58, 61, 58, 59, 56, 60, 52, 59, 64, 66, 60, 54, 51, 60, 63, 60, 67, 60, 58, 52, 53, 69, 52, 73, 58, 62, 56, 66, 55, 54, 56, 53, 60, 69, 54, 52, 62, 75, 64, 54, 51, 61, 56, 55, 67, 52, 64, 74, 51, 70, 51, 53, 64, 64, 66, 55, 81, 65, 61, 53, 60, 51, 51, 55, 51, 62, 56, 55, 66, 63, 61, 64, 58, 58, 52, 64, 56, 55, 67, 60, 81, 58, 62, 66, 52, 57, 51, 69, 60, 58, 52, 59, 54, 54, 56, 64, 61, 62, 62, 58, 55, 52, 56, 55, 53, 60, 73, 64, 51, 61, 52, 52, 54, 63, 60, 71, 51, 53, 64, 55, 51, 51, 62, 66, 69, 55, 68, 53, 56, 64, 54, 61, 51, 70, 51, 59, 67, 54, 55, 56, 58, 71, 51, 54, 58, 62, 51, 52, 59, 68, 60, 65, 57, 57, 55, 51, 56, 51, 63, 52, 62, 54, 65, 56, 56, 54, 69, 62, 74, 51, 64, 69, 66, 62, 56, 59, 52, 55, 55, 72, 51, 52, 64, 74, 58, 51, 56, 64, 60, 57, 54, 56, 59, 60, 51, 66, 62, 58, 51, 60, 55, 52, 54, 59, 61, 56, 62, 54, 57, 68, 62, 61, 69, 55, 52, 61, 55, 61, 61, 61, 54, 56, 64, 51, 57, 56, 54, 51, 58, 57, 66, 51, 51, 61, 55, 55, 60, 57, 61, 57, 57, 56, 61, 59, 60, 75, 52, 66, 51, 64, 51, 52, 63, 72, 70, 65, 53, 60, 56, 52, 72, 57, 54, 57, 51, 63, 70, 60, 53, 56, 52, 65, 68, 62, 60, 64, 58, 62, 53, 51, 60, 66, 57, 67, 62, 57, 54, 52, 57, 61, 53, 54, 54, 57, 59, 53, 55, 67, 56, 52, 53, 60, 51, 57, 59, 52, 62, 55, 61, 75, 56, 57, 54, 69, 63, 75, 69, 54, 57, 51, 66, 55, 51, 51, 60, 57, 55, 65, 61, 63, 59, 60, 56, 53, 58, 61, 90, 53, 55, 60, 72, 57, 54, 59, 57, 52, 55, 52, 53, 55, 59, 56, 62, 65, 63, 56, 56, 51, 53, 53, 52, 53, 57, 53, 52, 51, 55, 64, 75, 67, 59, 60, 56, 51, 51, 56, 51, 51, 60, 63, 53, 52, 53, 74, 65, 61, 51, 55, 54, 60, 52, 52, 59, 53, 62, 64, 60, 58, 61, 58, 51, 67, 57, 67, 51, 70, 61, 64, 55, 51, 54, 70, 59, 57, 59, 87, 53, 57, 51, 54, 60, 55, 55, 73, 64, 69, 54, 57, 61, 51, 54, 52, 51, 73, 61, 57, 52, 66, 55, 72, 59, 56, 52, 54, 66, 61, 74, 61, 53, 57, 65, 52, 57, 63, 54, 51, 67, 68, 54, 61, 53, 64, 51, 51, 61, 52, 60, 58, 90, 51, 56, 64, 62, 58, 72, 60, 71, 52, 57, 61, 61, 58, 61, 64, 62, 54, 52, 59, 58, 52, 58, 63, 51, 53, 54, 80, 55, 58, 63, 80, 55, 67, 53, 51, 54, 82, 60, 58, 61, 59, 52, 59, 55, 59, 59, 55, 70, 62, 55, 55, 60, 68, 62, 68, 57, 53, 60, 52, 51, 51, 52, 58, 61, 62, 53, 53, 70, 57, 52, 56, 59, 51, 53, 60, 55, 57, 59, 65, 59, 51, 53, 54, 66, 62, 55, 61, 55, 54, 56, 55, 52, 63, 53, 65, 59, 51, 58, 52, 52, 64, 68, 67, 51, 72, 53, 55, 51, 56, 58, 51, 51, 63, 62, 60, 90, 55, 54, 54, 59, 61, 65, 59, 54, 63, 54, 54, 75, 74, 66, 53, 60, 58, 55, 63, 90, 53, 51, 59, 62, 62, 59, 60, 55, 56, 53, 52, 61, 57, 61, 51, 61, 51, 66, 53, 51, 61, 53, 61, 85, 62, 58, 66, 55, 58, 64, 52, 51, 61, 60, 82, 57, 71, 66, 57, 58, 81, 54, 71, 72, 65, 53, 58, 52]\n"
          ]
        }
      ]
    },
    {
      "cell_type": "code",
      "source": [
        "serie_idade.iloc[lista_idade]"
      ],
      "metadata": {
        "id": "z3ZcQU9iWPDA"
      },
      "execution_count": null,
      "outputs": []
    },
    {
      "cell_type": "markdown",
      "source": [
        "# Acesso aos dados com loc\n",
        "\n",
        "\n",
        "*   Acessar elementos por \"string\"\n",
        "\n"
      ],
      "metadata": {
        "id": "zgG43sXHY3to"
      }
    },
    {
      "cell_type": "code",
      "source": [
        "!pip install Faker"
      ],
      "metadata": {
        "colab": {
          "base_uri": "https://localhost:8080/"
        },
        "id": "5Hf-NYodY-gT",
        "outputId": "315aa3e2-0f6b-4c64-dbc3-956980f763cb"
      },
      "execution_count": 59,
      "outputs": [
        {
          "output_type": "stream",
          "name": "stdout",
          "text": [
            "Collecting Faker\n",
            "  Downloading Faker-23.0.0-py3-none-any.whl (1.7 MB)\n",
            "\u001b[2K     \u001b[90m━━━━━━━━━━━━━━━━━━━━━━━━━━━━━━━━━━━━━━━━\u001b[0m \u001b[32m1.7/1.7 MB\u001b[0m \u001b[31m15.6 MB/s\u001b[0m eta \u001b[36m0:00:00\u001b[0m\n",
            "\u001b[?25hRequirement already satisfied: python-dateutil>=2.4 in /usr/local/lib/python3.10/dist-packages (from Faker) (2.8.2)\n",
            "Requirement already satisfied: six>=1.5 in /usr/local/lib/python3.10/dist-packages (from python-dateutil>=2.4->Faker) (1.16.0)\n",
            "Installing collected packages: Faker\n",
            "Successfully installed Faker-23.0.0\n"
          ]
        }
      ]
    },
    {
      "cell_type": "code",
      "source": [
        "from faker import Faker\n",
        "fake = Faker()"
      ],
      "metadata": {
        "id": "Erzr1U3qbIXF"
      },
      "execution_count": 60,
      "outputs": []
    },
    {
      "cell_type": "code",
      "source": [
        "fake.name()"
      ],
      "metadata": {
        "colab": {
          "base_uri": "https://localhost:8080/",
          "height": 35
        },
        "id": "SV9GmFP1bPz7",
        "outputId": "19692b31-242c-4d60-c843-aaf731654d50"
      },
      "execution_count": 61,
      "outputs": [
        {
          "output_type": "execute_result",
          "data": {
            "text/plain": [
              "'Stacy Kim'"
            ],
            "application/vnd.google.colaboratory.intrinsic+json": {
              "type": "string"
            }
          },
          "metadata": {},
          "execution_count": 61
        }
      ]
    },
    {
      "cell_type": "code",
      "source": [
        "indices_nome = []\n",
        "for _ in range(32561):\n",
        "    indices_nome.append(fake.name())"
      ],
      "metadata": {
        "id": "JhQonIREbTg7"
      },
      "execution_count": 62,
      "outputs": []
    },
    {
      "cell_type": "code",
      "source": [
        "type(indices_nome), len(indices_nome)"
      ],
      "metadata": {
        "colab": {
          "base_uri": "https://localhost:8080/"
        },
        "id": "Y8b62WPQbmWv",
        "outputId": "8104eb6c-5080-4dbf-c2bc-04adebb9e8dc"
      },
      "execution_count": 63,
      "outputs": [
        {
          "output_type": "execute_result",
          "data": {
            "text/plain": [
              "(list, 32561)"
            ]
          },
          "metadata": {},
          "execution_count": 63
        }
      ]
    },
    {
      "cell_type": "code",
      "source": [
        "indices_nome[0:10]"
      ],
      "metadata": {
        "id": "YYn-DmcobviE"
      },
      "execution_count": null,
      "outputs": []
    },
    {
      "cell_type": "code",
      "source": [
        "serie_idade.size"
      ],
      "metadata": {
        "colab": {
          "base_uri": "https://localhost:8080/"
        },
        "id": "HHnH7uXub4-7",
        "outputId": "4296ba9c-8d05-475e-bd4d-d248bc4c526c"
      },
      "execution_count": 65,
      "outputs": [
        {
          "output_type": "execute_result",
          "data": {
            "text/plain": [
              "32561"
            ]
          },
          "metadata": {},
          "execution_count": 65
        }
      ]
    },
    {
      "cell_type": "code",
      "source": [
        "serie_idade_nome = pd.Series(np.array(dataset['age']), index= indices_nome)\n",
        "serie_idade_nome"
      ],
      "metadata": {
        "colab": {
          "base_uri": "https://localhost:8080/"
        },
        "id": "HDs6s6LScABT",
        "outputId": "97bb1c9e-b90d-4cb1-a6ff-530939ac77ae"
      },
      "execution_count": 68,
      "outputs": [
        {
          "output_type": "execute_result",
          "data": {
            "text/plain": [
              "Meredith Williams    39\n",
              "Nicholas Johnson     50\n",
              "Timothy Dominguez    38\n",
              "Sarah Vang           53\n",
              "Evan Dennis          28\n",
              "                     ..\n",
              "Andrea Brooks        27\n",
              "Matthew Gray         40\n",
              "Mark Meza            58\n",
              "Steven Kerr          22\n",
              "Carla Holloway       52\n",
              "Length: 32561, dtype: int64"
            ]
          },
          "metadata": {},
          "execution_count": 68
        }
      ]
    },
    {
      "cell_type": "code",
      "source": [
        "serie_idade_nome['Mark Meza']"
      ],
      "metadata": {
        "colab": {
          "base_uri": "https://localhost:8080/"
        },
        "id": "EL07o5xBcl9q",
        "outputId": "329d7235-b6de-4146-c79e-b9651dde6a07"
      },
      "execution_count": 70,
      "outputs": [
        {
          "output_type": "execute_result",
          "data": {
            "text/plain": [
              "58"
            ]
          },
          "metadata": {},
          "execution_count": 70
        }
      ]
    },
    {
      "cell_type": "code",
      "source": [
        "serie_idade_nome[\"Meredith Williams\":\"Sarah Vang\"]"
      ],
      "metadata": {
        "colab": {
          "base_uri": "https://localhost:8080/"
        },
        "id": "NOoplfzUc1IS",
        "outputId": "27b10e36-2880-4a61-d159-fd509eda16be"
      },
      "execution_count": 73,
      "outputs": [
        {
          "output_type": "execute_result",
          "data": {
            "text/plain": [
              "Meredith Williams    39\n",
              "Nicholas Johnson     50\n",
              "Timothy Dominguez    38\n",
              "Sarah Vang           53\n",
              "dtype: int64"
            ]
          },
          "metadata": {},
          "execution_count": 73
        }
      ]
    }
  ]
}